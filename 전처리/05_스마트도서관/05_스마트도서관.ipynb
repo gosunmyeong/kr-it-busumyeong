{
 "cells": [
  {
   "cell_type": "code",
   "execution_count": 108,
   "id": "db10e032-6d91-4b50-b849-5fe75ee7c05d",
   "metadata": {},
   "outputs": [],
   "source": [
    "import pandas as pd"
   ]
  },
  {
   "cell_type": "code",
   "execution_count": 110,
   "id": "b4d0a347-e3eb-4f9b-9322-4dddc92848e7",
   "metadata": {},
   "outputs": [],
   "source": [
    "df = pd.read_csv(\"./data/서울교통공사_스마트도서관_20240618.csv\", encoding=\"euc-kr\")"
   ]
  },
  {
   "cell_type": "code",
   "execution_count": 112,
   "id": "70b4f13a-897c-4fb1-ab0a-c5c161e9b366",
   "metadata": {},
   "outputs": [
    {
     "data": {
      "text/html": [
       "<div>\n",
       "<style scoped>\n",
       "    .dataframe tbody tr th:only-of-type {\n",
       "        vertical-align: middle;\n",
       "    }\n",
       "\n",
       "    .dataframe tbody tr th {\n",
       "        vertical-align: top;\n",
       "    }\n",
       "\n",
       "    .dataframe thead th {\n",
       "        text-align: right;\n",
       "    }\n",
       "</style>\n",
       "<table border=\"1\" class=\"dataframe\">\n",
       "  <thead>\n",
       "    <tr style=\"text-align: right;\">\n",
       "      <th></th>\n",
       "      <th>연번</th>\n",
       "      <th>호선</th>\n",
       "      <th>역명</th>\n",
       "      <th>설치대수</th>\n",
       "      <th>계약자(업체명)</th>\n",
       "      <th>기기종류</th>\n",
       "    </tr>\n",
       "  </thead>\n",
       "  <tbody>\n",
       "    <tr>\n",
       "      <th>0</th>\n",
       "      <td>1</td>\n",
       "      <td>3</td>\n",
       "      <td>수서</td>\n",
       "      <td>1</td>\n",
       "      <td>강남구청</td>\n",
       "      <td>스마트도서관</td>\n",
       "    </tr>\n",
       "    <tr>\n",
       "      <th>1</th>\n",
       "      <td>2</td>\n",
       "      <td>7</td>\n",
       "      <td>청담</td>\n",
       "      <td>1</td>\n",
       "      <td>강남구청</td>\n",
       "      <td>스마트도서관</td>\n",
       "    </tr>\n",
       "    <tr>\n",
       "      <th>2</th>\n",
       "      <td>3</td>\n",
       "      <td>3</td>\n",
       "      <td>압구정</td>\n",
       "      <td>1</td>\n",
       "      <td>강남구청</td>\n",
       "      <td>스마트도서관</td>\n",
       "    </tr>\n",
       "    <tr>\n",
       "      <th>3</th>\n",
       "      <td>4</td>\n",
       "      <td>8</td>\n",
       "      <td>천호</td>\n",
       "      <td>1</td>\n",
       "      <td>강동문화재단</td>\n",
       "      <td>스마트도서관</td>\n",
       "    </tr>\n",
       "    <tr>\n",
       "      <th>4</th>\n",
       "      <td>5</td>\n",
       "      <td>5</td>\n",
       "      <td>상일동</td>\n",
       "      <td>1</td>\n",
       "      <td>강동문화재단</td>\n",
       "      <td>스마트도서관</td>\n",
       "    </tr>\n",
       "  </tbody>\n",
       "</table>\n",
       "</div>"
      ],
      "text/plain": [
       "   연번  호선   역명  설치대수 계약자(업체명)    기기종류\n",
       "0   1   3   수서     1     강남구청  스마트도서관\n",
       "1   2   7   청담     1     강남구청  스마트도서관\n",
       "2   3   3  압구정     1     강남구청  스마트도서관\n",
       "3   4   8   천호     1   강동문화재단  스마트도서관\n",
       "4   5   5  상일동     1   강동문화재단  스마트도서관"
      ]
     },
     "execution_count": 112,
     "metadata": {},
     "output_type": "execute_result"
    }
   ],
   "source": [
    "df.head()"
   ]
  },
  {
   "cell_type": "code",
   "execution_count": 114,
   "id": "057e60aa-c1f4-4b13-8e08-539028d93396",
   "metadata": {},
   "outputs": [
    {
     "data": {
      "text/html": [
       "<div>\n",
       "<style scoped>\n",
       "    .dataframe tbody tr th:only-of-type {\n",
       "        vertical-align: middle;\n",
       "    }\n",
       "\n",
       "    .dataframe tbody tr th {\n",
       "        vertical-align: top;\n",
       "    }\n",
       "\n",
       "    .dataframe thead th {\n",
       "        text-align: right;\n",
       "    }\n",
       "</style>\n",
       "<table border=\"1\" class=\"dataframe\">\n",
       "  <thead>\n",
       "    <tr style=\"text-align: right;\">\n",
       "      <th></th>\n",
       "      <th>연번</th>\n",
       "      <th>호선</th>\n",
       "      <th>역명</th>\n",
       "      <th>설치대수</th>\n",
       "      <th>계약자(업체명)</th>\n",
       "      <th>기기종류</th>\n",
       "    </tr>\n",
       "  </thead>\n",
       "  <tbody>\n",
       "    <tr>\n",
       "      <th>83</th>\n",
       "      <td>84</td>\n",
       "      <td>7</td>\n",
       "      <td>철산</td>\n",
       "      <td>1</td>\n",
       "      <td>평생학습사업본부(철산도서관)</td>\n",
       "      <td>스마트도서관</td>\n",
       "    </tr>\n",
       "    <tr>\n",
       "      <th>84</th>\n",
       "      <td>85</td>\n",
       "      <td>7</td>\n",
       "      <td>광명사거리</td>\n",
       "      <td>1</td>\n",
       "      <td>평생학습사업본부(광명도서관)</td>\n",
       "      <td>스마트도서관</td>\n",
       "    </tr>\n",
       "    <tr>\n",
       "      <th>85</th>\n",
       "      <td>86</td>\n",
       "      <td>7</td>\n",
       "      <td>광명사거리</td>\n",
       "      <td>1</td>\n",
       "      <td>평생학습사업본부(광명도서관)</td>\n",
       "      <td>상호대차대출기</td>\n",
       "    </tr>\n",
       "    <tr>\n",
       "      <th>86</th>\n",
       "      <td>87</td>\n",
       "      <td>7</td>\n",
       "      <td>철산</td>\n",
       "      <td>1</td>\n",
       "      <td>평생학습사업본부(하안도서관)</td>\n",
       "      <td>도서반납함</td>\n",
       "    </tr>\n",
       "    <tr>\n",
       "      <th>87</th>\n",
       "      <td>88</td>\n",
       "      <td>7</td>\n",
       "      <td>광명사거리</td>\n",
       "      <td>1</td>\n",
       "      <td>평생학습사업본부(하안도서관)</td>\n",
       "      <td>도서반납함</td>\n",
       "    </tr>\n",
       "  </tbody>\n",
       "</table>\n",
       "</div>"
      ],
      "text/plain": [
       "    연번  호선     역명  설치대수         계약자(업체명)     기기종류\n",
       "83  84   7     철산     1  평생학습사업본부(철산도서관)   스마트도서관\n",
       "84  85   7  광명사거리     1  평생학습사업본부(광명도서관)   스마트도서관\n",
       "85  86   7  광명사거리     1  평생학습사업본부(광명도서관)  상호대차대출기\n",
       "86  87   7     철산     1  평생학습사업본부(하안도서관)    도서반납함\n",
       "87  88   7  광명사거리     1  평생학습사업본부(하안도서관)    도서반납함"
      ]
     },
     "execution_count": 114,
     "metadata": {},
     "output_type": "execute_result"
    }
   ],
   "source": [
    "df.tail()"
   ]
  },
  {
   "cell_type": "code",
   "execution_count": 116,
   "id": "8e2a54e7-dc92-480e-ba02-439092c5c59c",
   "metadata": {},
   "outputs": [],
   "source": [
    "df = df[[\"호선\", \"역명\", \"설치대수\"]]"
   ]
  },
  {
   "cell_type": "code",
   "execution_count": 118,
   "id": "eb572727-0cd1-41b6-aca9-2037614bbe44",
   "metadata": {},
   "outputs": [
    {
     "data": {
      "text/plain": [
       "Index(['호선', '역명', '설치대수'], dtype='object')"
      ]
     },
     "execution_count": 118,
     "metadata": {},
     "output_type": "execute_result"
    }
   ],
   "source": [
    "df.columns"
   ]
  },
  {
   "cell_type": "code",
   "execution_count": 120,
   "id": "281757f1-e5f1-451a-a208-b7a32f940288",
   "metadata": {},
   "outputs": [],
   "source": [
    "df = df.rename(columns={\"호선\":\"노선명\",\"설치대수\":\"스마트도서관 개수\"})"
   ]
  },
  {
   "cell_type": "code",
   "execution_count": 122,
   "id": "d55799db-037b-4d87-b0da-69c18df26089",
   "metadata": {},
   "outputs": [],
   "source": [
    "df = df.sort_values([\"노선명\", \"역명\"])"
   ]
  },
  {
   "cell_type": "code",
   "execution_count": 124,
   "id": "681013c7-5dbe-4674-ab94-21fbf9d80168",
   "metadata": {},
   "outputs": [
    {
     "data": {
      "text/html": [
       "<div>\n",
       "<style scoped>\n",
       "    .dataframe tbody tr th:only-of-type {\n",
       "        vertical-align: middle;\n",
       "    }\n",
       "\n",
       "    .dataframe tbody tr th {\n",
       "        vertical-align: top;\n",
       "    }\n",
       "\n",
       "    .dataframe thead th {\n",
       "        text-align: right;\n",
       "    }\n",
       "</style>\n",
       "<table border=\"1\" class=\"dataframe\">\n",
       "  <thead>\n",
       "    <tr style=\"text-align: right;\">\n",
       "      <th></th>\n",
       "      <th>노선명</th>\n",
       "      <th>역명</th>\n",
       "      <th>스마트도서관 개수</th>\n",
       "    </tr>\n",
       "  </thead>\n",
       "  <tbody>\n",
       "    <tr>\n",
       "      <th>39</th>\n",
       "      <td>1</td>\n",
       "      <td>시청</td>\n",
       "      <td>1</td>\n",
       "    </tr>\n",
       "    <tr>\n",
       "      <th>19</th>\n",
       "      <td>2</td>\n",
       "      <td>구의</td>\n",
       "      <td>1</td>\n",
       "    </tr>\n",
       "    <tr>\n",
       "      <th>16</th>\n",
       "      <td>2</td>\n",
       "      <td>낙성대</td>\n",
       "      <td>1</td>\n",
       "    </tr>\n",
       "    <tr>\n",
       "      <th>22</th>\n",
       "      <td>2</td>\n",
       "      <td>대림</td>\n",
       "      <td>1</td>\n",
       "    </tr>\n",
       "    <tr>\n",
       "      <th>15</th>\n",
       "      <td>2</td>\n",
       "      <td>봉천</td>\n",
       "      <td>1</td>\n",
       "    </tr>\n",
       "  </tbody>\n",
       "</table>\n",
       "</div>"
      ],
      "text/plain": [
       "    노선명   역명  스마트도서관 개수\n",
       "39    1   시청          1\n",
       "19    2   구의          1\n",
       "16    2  낙성대          1\n",
       "22    2   대림          1\n",
       "15    2   봉천          1"
      ]
     },
     "execution_count": 124,
     "metadata": {},
     "output_type": "execute_result"
    }
   ],
   "source": [
    "df.head()"
   ]
  },
  {
   "cell_type": "code",
   "execution_count": 126,
   "id": "a0d5b831-3dd4-4f48-9a69-7fdf28d55fb9",
   "metadata": {},
   "outputs": [],
   "source": [
    "df[\"노선명\"] = df[\"노선명\"].astype(str)"
   ]
  },
  {
   "cell_type": "code",
   "execution_count": 128,
   "id": "0a80949a-c60e-42e8-b89b-00c4445a115e",
   "metadata": {},
   "outputs": [
    {
     "data": {
      "text/plain": [
       "array(['1', '2', '3', '4', '5', '6', '7', '8'], dtype=object)"
      ]
     },
     "execution_count": 128,
     "metadata": {},
     "output_type": "execute_result"
    }
   ],
   "source": [
    "df[\"노선명\"].unique()"
   ]
  },
  {
   "cell_type": "code",
   "execution_count": 130,
   "id": "2864ce94-f7ae-4d0f-81cd-4d99fa9372be",
   "metadata": {},
   "outputs": [],
   "source": [
    "df[\"노선명\"] = df[\"노선명\"] + \"호선\""
   ]
  },
  {
   "cell_type": "code",
   "execution_count": 132,
   "id": "4bb957c8-ed9b-4571-95d5-b8417373c957",
   "metadata": {},
   "outputs": [],
   "source": [
    "# 9호선 붙이기\n",
    "df9 = pd.read_excel(\"./data/9호선 편의시설 개수 정보_스마트도서관추가.xlsx\")"
   ]
  },
  {
   "cell_type": "code",
   "execution_count": 134,
   "id": "fb15a6dc-5621-4e31-ad4d-38507a196a22",
   "metadata": {},
   "outputs": [
    {
     "data": {
      "text/html": [
       "<div>\n",
       "<style scoped>\n",
       "    .dataframe tbody tr th:only-of-type {\n",
       "        vertical-align: middle;\n",
       "    }\n",
       "\n",
       "    .dataframe tbody tr th {\n",
       "        vertical-align: top;\n",
       "    }\n",
       "\n",
       "    .dataframe thead th {\n",
       "        text-align: right;\n",
       "    }\n",
       "</style>\n",
       "<table border=\"1\" class=\"dataframe\">\n",
       "  <thead>\n",
       "    <tr style=\"text-align: right;\">\n",
       "      <th></th>\n",
       "      <th>노선명</th>\n",
       "      <th>역명</th>\n",
       "      <th>지하상가</th>\n",
       "      <th>편의점(역내)</th>\n",
       "      <th>공중화장실</th>\n",
       "      <th>자전거보관소</th>\n",
       "      <th>엘리베이터</th>\n",
       "      <th>에스컬레이터</th>\n",
       "      <th>물품보관함</th>\n",
       "      <th>무인민원발급기</th>\n",
       "      <th>소화기</th>\n",
       "      <th>스마트도서관</th>\n",
       "    </tr>\n",
       "  </thead>\n",
       "  <tbody>\n",
       "    <tr>\n",
       "      <th>0</th>\n",
       "      <td>9호선</td>\n",
       "      <td>개화</td>\n",
       "      <td>-</td>\n",
       "      <td>0</td>\n",
       "      <td>1</td>\n",
       "      <td>30</td>\n",
       "      <td>2</td>\n",
       "      <td>4</td>\n",
       "      <td>1</td>\n",
       "      <td>0</td>\n",
       "      <td>58</td>\n",
       "      <td>0</td>\n",
       "    </tr>\n",
       "    <tr>\n",
       "      <th>1</th>\n",
       "      <td>9호선</td>\n",
       "      <td>김포공항</td>\n",
       "      <td>-</td>\n",
       "      <td>2</td>\n",
       "      <td>2</td>\n",
       "      <td>0</td>\n",
       "      <td>3</td>\n",
       "      <td>18</td>\n",
       "      <td>1</td>\n",
       "      <td>0</td>\n",
       "      <td>52</td>\n",
       "      <td>0</td>\n",
       "    </tr>\n",
       "    <tr>\n",
       "      <th>2</th>\n",
       "      <td>9호선</td>\n",
       "      <td>공항시장</td>\n",
       "      <td>-</td>\n",
       "      <td>1</td>\n",
       "      <td>1</td>\n",
       "      <td>30</td>\n",
       "      <td>3</td>\n",
       "      <td>18</td>\n",
       "      <td>1</td>\n",
       "      <td>0</td>\n",
       "      <td>102</td>\n",
       "      <td>0</td>\n",
       "    </tr>\n",
       "    <tr>\n",
       "      <th>3</th>\n",
       "      <td>9호선</td>\n",
       "      <td>신방화</td>\n",
       "      <td>-</td>\n",
       "      <td>0</td>\n",
       "      <td>1</td>\n",
       "      <td>30</td>\n",
       "      <td>4</td>\n",
       "      <td>22</td>\n",
       "      <td>1</td>\n",
       "      <td>0</td>\n",
       "      <td>62</td>\n",
       "      <td>0</td>\n",
       "    </tr>\n",
       "    <tr>\n",
       "      <th>4</th>\n",
       "      <td>9호선</td>\n",
       "      <td>마곡나루</td>\n",
       "      <td>-</td>\n",
       "      <td>1</td>\n",
       "      <td>1</td>\n",
       "      <td>40</td>\n",
       "      <td>4</td>\n",
       "      <td>14</td>\n",
       "      <td>1</td>\n",
       "      <td>1</td>\n",
       "      <td>51</td>\n",
       "      <td>0</td>\n",
       "    </tr>\n",
       "  </tbody>\n",
       "</table>\n",
       "</div>"
      ],
      "text/plain": [
       "   노선명    역명 지하상가  편의점(역내)  공중화장실  자전거보관소  엘리베이터  에스컬레이터  물품보관함  무인민원발급기  소화기  \\\n",
       "0  9호선    개화    -        0      1      30      2       4      1        0   58   \n",
       "1  9호선  김포공항    -        2      2       0      3      18      1        0   52   \n",
       "2  9호선  공항시장    -        1      1      30      3      18      1        0  102   \n",
       "3  9호선   신방화    -        0      1      30      4      22      1        0   62   \n",
       "4  9호선  마곡나루    -        1      1      40      4      14      1        1   51   \n",
       "\n",
       "   스마트도서관  \n",
       "0       0  \n",
       "1       0  \n",
       "2       0  \n",
       "3       0  \n",
       "4       0  "
      ]
     },
     "execution_count": 134,
     "metadata": {},
     "output_type": "execute_result"
    }
   ],
   "source": [
    "df9.head()"
   ]
  },
  {
   "cell_type": "code",
   "execution_count": 136,
   "id": "e0325356-2e13-40f6-bd29-35f776e07d2b",
   "metadata": {},
   "outputs": [],
   "source": [
    "df9 = df9[[\"노선명\", \"역명\", \"스마트도서관\"]]"
   ]
  },
  {
   "cell_type": "code",
   "execution_count": 138,
   "id": "5cfba09e-231b-40c9-b231-cf5ea5ddccd3",
   "metadata": {},
   "outputs": [],
   "source": [
    "df9 = df9.rename(columns = {\"스마트도서관\":\"스마트도서관 개수\"})"
   ]
  },
  {
   "cell_type": "code",
   "execution_count": 140,
   "id": "6325269c-e92f-405a-b167-84a03b84b85f",
   "metadata": {},
   "outputs": [],
   "source": [
    "smart_lib = pd.concat([df,df9], axis=0, ignore_index=True)"
   ]
  },
  {
   "cell_type": "code",
   "execution_count": 142,
   "id": "e1340351-b3b3-4f6e-9e75-81055ffe0587",
   "metadata": {},
   "outputs": [],
   "source": [
    "smart_lib.to_csv(\"./result_files/smart_lib_include9.csv\", index=False, encoding=\"utf-8-sig\")"
   ]
  },
  {
   "cell_type": "code",
   "execution_count": 144,
   "id": "4bfd3157-f987-45fc-87ac-9e0753314a09",
   "metadata": {},
   "outputs": [],
   "source": [
    "smt_df = pd.read_csv(\"./result_files/smart_lib_include9.csv\")"
   ]
  },
  {
   "cell_type": "code",
   "execution_count": 146,
   "id": "a1f32333-f162-461e-8c0b-17e5be79eb25",
   "metadata": {
    "scrolled": true
   },
   "outputs": [
    {
     "data": {
      "text/html": [
       "<div>\n",
       "<style scoped>\n",
       "    .dataframe tbody tr th:only-of-type {\n",
       "        vertical-align: middle;\n",
       "    }\n",
       "\n",
       "    .dataframe tbody tr th {\n",
       "        vertical-align: top;\n",
       "    }\n",
       "\n",
       "    .dataframe thead th {\n",
       "        text-align: right;\n",
       "    }\n",
       "</style>\n",
       "<table border=\"1\" class=\"dataframe\">\n",
       "  <thead>\n",
       "    <tr style=\"text-align: right;\">\n",
       "      <th></th>\n",
       "      <th>노선명</th>\n",
       "      <th>역명</th>\n",
       "      <th>스마트도서관 개수</th>\n",
       "    </tr>\n",
       "  </thead>\n",
       "  <tbody>\n",
       "    <tr>\n",
       "      <th>0</th>\n",
       "      <td>1호선</td>\n",
       "      <td>시청</td>\n",
       "      <td>1</td>\n",
       "    </tr>\n",
       "    <tr>\n",
       "      <th>1</th>\n",
       "      <td>2호선</td>\n",
       "      <td>구의</td>\n",
       "      <td>1</td>\n",
       "    </tr>\n",
       "    <tr>\n",
       "      <th>2</th>\n",
       "      <td>2호선</td>\n",
       "      <td>낙성대</td>\n",
       "      <td>1</td>\n",
       "    </tr>\n",
       "    <tr>\n",
       "      <th>3</th>\n",
       "      <td>2호선</td>\n",
       "      <td>대림</td>\n",
       "      <td>1</td>\n",
       "    </tr>\n",
       "    <tr>\n",
       "      <th>4</th>\n",
       "      <td>2호선</td>\n",
       "      <td>봉천</td>\n",
       "      <td>1</td>\n",
       "    </tr>\n",
       "  </tbody>\n",
       "</table>\n",
       "</div>"
      ],
      "text/plain": [
       "   노선명   역명  스마트도서관 개수\n",
       "0  1호선   시청          1\n",
       "1  2호선   구의          1\n",
       "2  2호선  낙성대          1\n",
       "3  2호선   대림          1\n",
       "4  2호선   봉천          1"
      ]
     },
     "execution_count": 146,
     "metadata": {},
     "output_type": "execute_result"
    }
   ],
   "source": [
    "smt_df.head()"
   ]
  },
  {
   "cell_type": "code",
   "execution_count": 148,
   "id": "ba6e12c1-1590-47cb-ad07-2db6e9f1074a",
   "metadata": {},
   "outputs": [
    {
     "data": {
      "text/html": [
       "<div>\n",
       "<style scoped>\n",
       "    .dataframe tbody tr th:only-of-type {\n",
       "        vertical-align: middle;\n",
       "    }\n",
       "\n",
       "    .dataframe tbody tr th {\n",
       "        vertical-align: top;\n",
       "    }\n",
       "\n",
       "    .dataframe thead th {\n",
       "        text-align: right;\n",
       "    }\n",
       "</style>\n",
       "<table border=\"1\" class=\"dataframe\">\n",
       "  <thead>\n",
       "    <tr style=\"text-align: right;\">\n",
       "      <th></th>\n",
       "      <th>노선명</th>\n",
       "      <th>역명</th>\n",
       "      <th>스마트도서관 개수</th>\n",
       "    </tr>\n",
       "  </thead>\n",
       "  <tbody>\n",
       "    <tr>\n",
       "      <th>121</th>\n",
       "      <td>9호선</td>\n",
       "      <td>송파나루</td>\n",
       "      <td>0</td>\n",
       "    </tr>\n",
       "    <tr>\n",
       "      <th>122</th>\n",
       "      <td>9호선</td>\n",
       "      <td>한성백제</td>\n",
       "      <td>0</td>\n",
       "    </tr>\n",
       "    <tr>\n",
       "      <th>123</th>\n",
       "      <td>9호선</td>\n",
       "      <td>올림픽공원</td>\n",
       "      <td>0</td>\n",
       "    </tr>\n",
       "    <tr>\n",
       "      <th>124</th>\n",
       "      <td>9호선</td>\n",
       "      <td>둔춘오륜</td>\n",
       "      <td>0</td>\n",
       "    </tr>\n",
       "    <tr>\n",
       "      <th>125</th>\n",
       "      <td>9호선</td>\n",
       "      <td>중앙보훈병원</td>\n",
       "      <td>1</td>\n",
       "    </tr>\n",
       "  </tbody>\n",
       "</table>\n",
       "</div>"
      ],
      "text/plain": [
       "     노선명      역명  스마트도서관 개수\n",
       "121  9호선    송파나루          0\n",
       "122  9호선    한성백제          0\n",
       "123  9호선   올림픽공원          0\n",
       "124  9호선    둔춘오륜          0\n",
       "125  9호선  중앙보훈병원          1"
      ]
     },
     "execution_count": 148,
     "metadata": {},
     "output_type": "execute_result"
    }
   ],
   "source": [
    "smt_df.tail()"
   ]
  },
  {
   "cell_type": "code",
   "execution_count": null,
   "id": "2476e8d9-4a4d-4ace-9343-483fba48ac88",
   "metadata": {},
   "outputs": [],
   "source": []
  },
  {
   "cell_type": "code",
   "execution_count": null,
   "id": "c2f00d5d-b4ce-4b49-9580-f88bbab0f281",
   "metadata": {},
   "outputs": [],
   "source": []
  },
  {
   "cell_type": "code",
   "execution_count": null,
   "id": "a8caaa33-437a-446a-9c38-02189b3fa59c",
   "metadata": {},
   "outputs": [],
   "source": []
  },
  {
   "cell_type": "code",
   "execution_count": null,
   "id": "7a886224-9027-49cc-8859-8b840179b67b",
   "metadata": {},
   "outputs": [],
   "source": []
  },
  {
   "cell_type": "code",
   "execution_count": null,
   "id": "811b0f1e-b78c-4ec1-b7bc-9fa3c8c8a74b",
   "metadata": {},
   "outputs": [],
   "source": []
  }
 ],
 "metadata": {
  "kernelspec": {
   "display_name": "Python [conda env:base] *",
   "language": "python",
   "name": "conda-base-py"
  },
  "language_info": {
   "codemirror_mode": {
    "name": "ipython",
    "version": 3
   },
   "file_extension": ".py",
   "mimetype": "text/x-python",
   "name": "python",
   "nbconvert_exporter": "python",
   "pygments_lexer": "ipython3",
   "version": "3.12.7"
  }
 },
 "nbformat": 4,
 "nbformat_minor": 5
}
