{
 "cells": [
  {
   "cell_type": "code",
   "execution_count": 1,
   "id": "2bdff188-09bd-4c90-8e1d-18c47a3db6d0",
   "metadata": {},
   "outputs": [],
   "source": [
    "import pandas as pd"
   ]
  },
  {
   "cell_type": "code",
   "execution_count": 2,
   "id": "90b9133f-4a87-4a57-9e32-b382857a2df8",
   "metadata": {},
   "outputs": [],
   "source": [
    "df = pd.read_excel(\"./data/서울교통공사_에스컬레이터 설치 정보(1-8호선).xlsx\", header = 1, skipfooter = 1)"
   ]
  },
  {
   "cell_type": "code",
   "execution_count": 4,
   "id": "41f67f25-0f7e-4f6a-9a7f-05ac224d7538",
   "metadata": {},
   "outputs": [
    {
     "data": {
      "text/html": [
       "<div>\n",
       "<style scoped>\n",
       "    .dataframe tbody tr th:only-of-type {\n",
       "        vertical-align: middle;\n",
       "    }\n",
       "\n",
       "    .dataframe tbody tr th {\n",
       "        vertical-align: top;\n",
       "    }\n",
       "\n",
       "    .dataframe thead th {\n",
       "        text-align: right;\n",
       "    }\n",
       "</style>\n",
       "<table border=\"1\" class=\"dataframe\">\n",
       "  <thead>\n",
       "    <tr style=\"text-align: right;\">\n",
       "      <th></th>\n",
       "      <th>연번\\n(총괄정렬용)</th>\n",
       "      <th>연번</th>\n",
       "      <th>호선</th>\n",
       "      <th>역명</th>\n",
       "      <th>호기</th>\n",
       "      <th>승강기번호</th>\n",
       "      <th>설치위치</th>\n",
       "      <th>운행구간(자체조사)</th>\n",
       "      <th>운행방향</th>\n",
       "    </tr>\n",
       "  </thead>\n",
       "  <tbody>\n",
       "    <tr>\n",
       "      <th>0</th>\n",
       "      <td>1.0</td>\n",
       "      <td>1</td>\n",
       "      <td>1</td>\n",
       "      <td>서울역(1)</td>\n",
       "      <td>1</td>\n",
       "      <td>1800-448</td>\n",
       "      <td>연결통로(4호선)</td>\n",
       "      <td>B2-B1</td>\n",
       "      <td>상행</td>\n",
       "    </tr>\n",
       "    <tr>\n",
       "      <th>1</th>\n",
       "      <td>2.0</td>\n",
       "      <td>2</td>\n",
       "      <td>1</td>\n",
       "      <td>서울역(1)</td>\n",
       "      <td>2</td>\n",
       "      <td>1806-600</td>\n",
       "      <td>남영 방면2-3</td>\n",
       "      <td>B1-B2</td>\n",
       "      <td>하행</td>\n",
       "    </tr>\n",
       "    <tr>\n",
       "      <th>2</th>\n",
       "      <td>3.0</td>\n",
       "      <td>3</td>\n",
       "      <td>1</td>\n",
       "      <td>서울역(1)</td>\n",
       "      <td>3</td>\n",
       "      <td>1806-599</td>\n",
       "      <td>시청 방면9-3</td>\n",
       "      <td>B2-B1</td>\n",
       "      <td>상행</td>\n",
       "    </tr>\n",
       "    <tr>\n",
       "      <th>3</th>\n",
       "      <td>4.0</td>\n",
       "      <td>4</td>\n",
       "      <td>1</td>\n",
       "      <td>서울역(1)</td>\n",
       "      <td>4</td>\n",
       "      <td>1810-816</td>\n",
       "      <td>4번 출입구</td>\n",
       "      <td>B1-1F</td>\n",
       "      <td>상행</td>\n",
       "    </tr>\n",
       "    <tr>\n",
       "      <th>4</th>\n",
       "      <td>5.0</td>\n",
       "      <td>5</td>\n",
       "      <td>1</td>\n",
       "      <td>서울역(1)</td>\n",
       "      <td>5</td>\n",
       "      <td>1810-817</td>\n",
       "      <td>4번 출입구</td>\n",
       "      <td>1F-B1</td>\n",
       "      <td>하행</td>\n",
       "    </tr>\n",
       "  </tbody>\n",
       "</table>\n",
       "</div>"
      ],
      "text/plain": [
       "   연번\\n(총괄정렬용)  연번 호선      역명  호기     승강기번호       설치위치 운행구간(자체조사) 운행방향\n",
       "0          1.0   1  1  서울역(1)   1  1800-448  연결통로(4호선)      B2-B1   상행\n",
       "1          2.0   2  1  서울역(1)   2  1806-600   남영 방면2-3      B1-B2   하행\n",
       "2          3.0   3  1  서울역(1)   3  1806-599   시청 방면9-3      B2-B1   상행\n",
       "3          4.0   4  1  서울역(1)   4  1810-816     4번 출입구      B1-1F   상행\n",
       "4          5.0   5  1  서울역(1)   5  1810-817     4번 출입구      1F-B1   하행"
      ]
     },
     "execution_count": 4,
     "metadata": {},
     "output_type": "execute_result"
    }
   ],
   "source": [
    "df.head()"
   ]
  },
  {
   "cell_type": "code",
   "execution_count": 5,
   "id": "26ce8bab-a967-4a55-b1cd-002cb58b7b3d",
   "metadata": {},
   "outputs": [
    {
     "data": {
      "text/html": [
       "<div>\n",
       "<style scoped>\n",
       "    .dataframe tbody tr th:only-of-type {\n",
       "        vertical-align: middle;\n",
       "    }\n",
       "\n",
       "    .dataframe tbody tr th {\n",
       "        vertical-align: top;\n",
       "    }\n",
       "\n",
       "    .dataframe thead th {\n",
       "        text-align: right;\n",
       "    }\n",
       "</style>\n",
       "<table border=\"1\" class=\"dataframe\">\n",
       "  <thead>\n",
       "    <tr style=\"text-align: right;\">\n",
       "      <th></th>\n",
       "      <th>연번\\n(총괄정렬용)</th>\n",
       "      <th>연번</th>\n",
       "      <th>호선</th>\n",
       "      <th>역명</th>\n",
       "      <th>호기</th>\n",
       "      <th>승강기번호</th>\n",
       "      <th>설치위치</th>\n",
       "      <th>운행구간(자체조사)</th>\n",
       "      <th>운행방향</th>\n",
       "    </tr>\n",
       "  </thead>\n",
       "  <tbody>\n",
       "    <tr>\n",
       "      <th>1866</th>\n",
       "      <td>NaN</td>\n",
       "      <td>1867</td>\n",
       "      <td>8</td>\n",
       "      <td>단대오거리</td>\n",
       "      <td>4</td>\n",
       "      <td>3805-602</td>\n",
       "      <td>대합실</td>\n",
       "      <td>B2-B1</td>\n",
       "      <td>상행</td>\n",
       "    </tr>\n",
       "    <tr>\n",
       "      <th>1867</th>\n",
       "      <td>NaN</td>\n",
       "      <td>1868</td>\n",
       "      <td>8</td>\n",
       "      <td>단대오거리</td>\n",
       "      <td>5</td>\n",
       "      <td>3811-916</td>\n",
       "      <td>3번 출입구</td>\n",
       "      <td>B1-1F</td>\n",
       "      <td>상행</td>\n",
       "    </tr>\n",
       "    <tr>\n",
       "      <th>1868</th>\n",
       "      <td>NaN</td>\n",
       "      <td>1869</td>\n",
       "      <td>8</td>\n",
       "      <td>단대오거리</td>\n",
       "      <td>6</td>\n",
       "      <td>3811-917</td>\n",
       "      <td>3번 출입구</td>\n",
       "      <td>1F-B1</td>\n",
       "      <td>하행</td>\n",
       "    </tr>\n",
       "    <tr>\n",
       "      <th>1869</th>\n",
       "      <td>NaN</td>\n",
       "      <td>1870</td>\n",
       "      <td>8</td>\n",
       "      <td>모란(8)</td>\n",
       "      <td>1</td>\n",
       "      <td>3802-183</td>\n",
       "      <td>대합실</td>\n",
       "      <td>B1-B2</td>\n",
       "      <td>하행</td>\n",
       "    </tr>\n",
       "    <tr>\n",
       "      <th>1870</th>\n",
       "      <td>NaN</td>\n",
       "      <td>1871</td>\n",
       "      <td>8</td>\n",
       "      <td>모란(8)</td>\n",
       "      <td>2</td>\n",
       "      <td>3802-184</td>\n",
       "      <td>대합실</td>\n",
       "      <td>B2-B1</td>\n",
       "      <td>상행</td>\n",
       "    </tr>\n",
       "  </tbody>\n",
       "</table>\n",
       "</div>"
      ],
      "text/plain": [
       "      연번\\n(총괄정렬용)    연번 호선     역명  호기     승강기번호    설치위치 운행구간(자체조사) 운행방향\n",
       "1866          NaN  1867  8  단대오거리   4  3805-602     대합실      B2-B1   상행\n",
       "1867          NaN  1868  8  단대오거리   5  3811-916  3번 출입구      B1-1F   상행\n",
       "1868          NaN  1869  8  단대오거리   6  3811-917  3번 출입구      1F-B1   하행\n",
       "1869          NaN  1870  8  모란(8)   1  3802-183     대합실      B1-B2   하행\n",
       "1870          NaN  1871  8  모란(8)   2  3802-184     대합실      B2-B1   상행"
      ]
     },
     "execution_count": 5,
     "metadata": {},
     "output_type": "execute_result"
    }
   ],
   "source": [
    "df.tail()"
   ]
  },
  {
   "cell_type": "code",
   "execution_count": 6,
   "id": "aaa1c806-9e85-42d4-af84-861089a79f5a",
   "metadata": {},
   "outputs": [
    {
     "data": {
      "text/plain": [
       "Index(['연번\\n(총괄정렬용)', '연번', '호선', '역명', '호기', '승강기번호', '설치위치', '운행구간(자체조사)',\n",
       "       '운행방향'],\n",
       "      dtype='object')"
      ]
     },
     "execution_count": 6,
     "metadata": {},
     "output_type": "execute_result"
    }
   ],
   "source": [
    "df.columns"
   ]
  },
  {
   "cell_type": "code",
   "execution_count": 7,
   "id": "558c0cb6-3863-4239-a7d2-19edc052ae53",
   "metadata": {},
   "outputs": [],
   "source": [
    "# 호선 -> 노선명\n",
    "df.columns = ['연번\\n(총괄정렬용)', '연번', '노선명', '역명', '호기', '승강기번호', '설치위치', '운행구간(자체조사)',\n",
    "       '운행방향']"
   ]
  },
  {
   "cell_type": "code",
   "execution_count": 8,
   "id": "2767496c-e394-4707-bb2d-643998df0846",
   "metadata": {},
   "outputs": [
    {
     "data": {
      "text/plain": [
       "연번\\n(총괄정렬용)    float64\n",
       "연번               int64\n",
       "노선명             object\n",
       "역명              object\n",
       "호기               int64\n",
       "승강기번호           object\n",
       "설치위치            object\n",
       "운행구간(자체조사)      object\n",
       "운행방향            object\n",
       "dtype: object"
      ]
     },
     "execution_count": 8,
     "metadata": {},
     "output_type": "execute_result"
    }
   ],
   "source": [
    "df.dtypes"
   ]
  },
  {
   "cell_type": "code",
   "execution_count": 15,
   "id": "3cf831a7-2e02-4f2e-a809-4dc37a0b5b86",
   "metadata": {},
   "outputs": [
    {
     "data": {
      "text/plain": [
       "numpy.float64"
      ]
     },
     "execution_count": 15,
     "metadata": {},
     "output_type": "execute_result"
    }
   ],
   "source": [
    "# 데이터 타입을 확인\n",
    "type(df.iloc[0, 0])"
   ]
  },
  {
   "cell_type": "code",
   "execution_count": 17,
   "id": "672ee6cc-df06-4e78-8d40-3f67c7dfb574",
   "metadata": {},
   "outputs": [],
   "source": [
    "# string타입으로 모두 변경\n",
    "df[\"노선명\"] = df[\"노선명\"].astype(str)"
   ]
  },
  {
   "cell_type": "code",
   "execution_count": 19,
   "id": "ce63dd87-6268-4fea-9151-2ad8a9d9c46d",
   "metadata": {},
   "outputs": [],
   "source": [
    "# (연)을 모두 삭제\n",
    "df[\"노선명\"]  = df[\"노선명\"].str.replace(\"(연)\", \"\")"
   ]
  },
  {
   "cell_type": "code",
   "execution_count": 21,
   "id": "ccda7f1d-8684-40e6-a72d-fb6ab03576af",
   "metadata": {},
   "outputs": [
    {
     "data": {
      "text/plain": [
       "array(['1', '2', '3', '4', '5', '6', '7', '8'], dtype=object)"
      ]
     },
     "execution_count": 21,
     "metadata": {},
     "output_type": "execute_result"
    }
   ],
   "source": [
    "df[\"노선명\"].unique()"
   ]
  },
  {
   "cell_type": "code",
   "execution_count": 23,
   "id": "7924b7c8-6214-4ab9-9379-c4dbaca8a628",
   "metadata": {},
   "outputs": [],
   "source": [
    "# 호선명 뒤에 \"호선\" 붙이기\n",
    "df[\"노선명\"] = df[\"노선명\"] + \"호선\""
   ]
  },
  {
   "cell_type": "code",
   "execution_count": 25,
   "id": "9656d64d-00cf-469c-b0d1-98d630797552",
   "metadata": {},
   "outputs": [],
   "source": [
    "df.columns = ['연번\\n(총괄정렬용)', '연번', '노선명', '역명', '호기', '승강기번호', '설치위치', '운행구간(자체조사)',\n",
    "       '운행방향']"
   ]
  },
  {
   "cell_type": "code",
   "execution_count": 27,
   "id": "2f6aad51-cbfc-455e-96ee-e4b632766d58",
   "metadata": {},
   "outputs": [],
   "source": [
    "# 불필요한 컬럼 삭제\n",
    "df = df.drop(columns=[\"연번\\n(총괄정렬용)\", \"연번\", \"승강기번호\", \"설치위치\", \"운행구간(자체조사)\", \"운행방향\"])"
   ]
  },
  {
   "cell_type": "code",
   "execution_count": 29,
   "id": "0c6a9c59-6738-457f-9764-bd3b84bd63a5",
   "metadata": {},
   "outputs": [
    {
     "data": {
      "text/html": [
       "<div>\n",
       "<style scoped>\n",
       "    .dataframe tbody tr th:only-of-type {\n",
       "        vertical-align: middle;\n",
       "    }\n",
       "\n",
       "    .dataframe tbody tr th {\n",
       "        vertical-align: top;\n",
       "    }\n",
       "\n",
       "    .dataframe thead th {\n",
       "        text-align: right;\n",
       "    }\n",
       "</style>\n",
       "<table border=\"1\" class=\"dataframe\">\n",
       "  <thead>\n",
       "    <tr style=\"text-align: right;\">\n",
       "      <th></th>\n",
       "      <th>노선명</th>\n",
       "      <th>역명</th>\n",
       "      <th>호기</th>\n",
       "    </tr>\n",
       "  </thead>\n",
       "  <tbody>\n",
       "    <tr>\n",
       "      <th>0</th>\n",
       "      <td>1호선</td>\n",
       "      <td>서울역(1)</td>\n",
       "      <td>1</td>\n",
       "    </tr>\n",
       "    <tr>\n",
       "      <th>1</th>\n",
       "      <td>1호선</td>\n",
       "      <td>서울역(1)</td>\n",
       "      <td>2</td>\n",
       "    </tr>\n",
       "    <tr>\n",
       "      <th>2</th>\n",
       "      <td>1호선</td>\n",
       "      <td>서울역(1)</td>\n",
       "      <td>3</td>\n",
       "    </tr>\n",
       "    <tr>\n",
       "      <th>3</th>\n",
       "      <td>1호선</td>\n",
       "      <td>서울역(1)</td>\n",
       "      <td>4</td>\n",
       "    </tr>\n",
       "    <tr>\n",
       "      <th>4</th>\n",
       "      <td>1호선</td>\n",
       "      <td>서울역(1)</td>\n",
       "      <td>5</td>\n",
       "    </tr>\n",
       "  </tbody>\n",
       "</table>\n",
       "</div>"
      ],
      "text/plain": [
       "   노선명      역명  호기\n",
       "0  1호선  서울역(1)   1\n",
       "1  1호선  서울역(1)   2\n",
       "2  1호선  서울역(1)   3\n",
       "3  1호선  서울역(1)   4\n",
       "4  1호선  서울역(1)   5"
      ]
     },
     "execution_count": 29,
     "metadata": {},
     "output_type": "execute_result"
    }
   ],
   "source": [
    "df.head()"
   ]
  },
  {
   "cell_type": "code",
   "execution_count": 31,
   "id": "ce6ddb3f-c93b-4843-b9fa-03b7c8dd7ce4",
   "metadata": {},
   "outputs": [
    {
     "data": {
      "text/html": [
       "<div>\n",
       "<style scoped>\n",
       "    .dataframe tbody tr th:only-of-type {\n",
       "        vertical-align: middle;\n",
       "    }\n",
       "\n",
       "    .dataframe tbody tr th {\n",
       "        vertical-align: top;\n",
       "    }\n",
       "\n",
       "    .dataframe thead th {\n",
       "        text-align: right;\n",
       "    }\n",
       "</style>\n",
       "<table border=\"1\" class=\"dataframe\">\n",
       "  <thead>\n",
       "    <tr style=\"text-align: right;\">\n",
       "      <th></th>\n",
       "      <th>노선명</th>\n",
       "      <th>역명</th>\n",
       "      <th>호기</th>\n",
       "    </tr>\n",
       "  </thead>\n",
       "  <tbody>\n",
       "    <tr>\n",
       "      <th>1866</th>\n",
       "      <td>8호선</td>\n",
       "      <td>단대오거리</td>\n",
       "      <td>4</td>\n",
       "    </tr>\n",
       "    <tr>\n",
       "      <th>1867</th>\n",
       "      <td>8호선</td>\n",
       "      <td>단대오거리</td>\n",
       "      <td>5</td>\n",
       "    </tr>\n",
       "    <tr>\n",
       "      <th>1868</th>\n",
       "      <td>8호선</td>\n",
       "      <td>단대오거리</td>\n",
       "      <td>6</td>\n",
       "    </tr>\n",
       "    <tr>\n",
       "      <th>1869</th>\n",
       "      <td>8호선</td>\n",
       "      <td>모란(8)</td>\n",
       "      <td>1</td>\n",
       "    </tr>\n",
       "    <tr>\n",
       "      <th>1870</th>\n",
       "      <td>8호선</td>\n",
       "      <td>모란(8)</td>\n",
       "      <td>2</td>\n",
       "    </tr>\n",
       "  </tbody>\n",
       "</table>\n",
       "</div>"
      ],
      "text/plain": [
       "      노선명     역명  호기\n",
       "1866  8호선  단대오거리   4\n",
       "1867  8호선  단대오거리   5\n",
       "1868  8호선  단대오거리   6\n",
       "1869  8호선  모란(8)   1\n",
       "1870  8호선  모란(8)   2"
      ]
     },
     "execution_count": 31,
     "metadata": {},
     "output_type": "execute_result"
    }
   ],
   "source": [
    "df.tail()"
   ]
  },
  {
   "cell_type": "code",
   "execution_count": 33,
   "id": "96d5796f-447f-49fc-9cba-14960e3edb24",
   "metadata": {},
   "outputs": [],
   "source": [
    "# df[\"역명\"].str.replace(\"(1)\", \"\")"
   ]
  },
  {
   "cell_type": "code",
   "execution_count": 35,
   "id": "b9e68f54-6b3f-4080-9ae0-471bcd427090",
   "metadata": {},
   "outputs": [],
   "source": [
    "# 역명 뒤의 (숫자) 삭제\n",
    "for i in range(1, 10):\n",
    "    df[\"역명\"] = df[\"역명\"].str.replace(f'({i})', '')"
   ]
  },
  {
   "cell_type": "code",
   "execution_count": 37,
   "id": "0c92e33a-d0a4-4445-8187-3db5c1e2e8b5",
   "metadata": {},
   "outputs": [
    {
     "data": {
      "text/html": [
       "<div>\n",
       "<style scoped>\n",
       "    .dataframe tbody tr th:only-of-type {\n",
       "        vertical-align: middle;\n",
       "    }\n",
       "\n",
       "    .dataframe tbody tr th {\n",
       "        vertical-align: top;\n",
       "    }\n",
       "\n",
       "    .dataframe thead th {\n",
       "        text-align: right;\n",
       "    }\n",
       "</style>\n",
       "<table border=\"1\" class=\"dataframe\">\n",
       "  <thead>\n",
       "    <tr style=\"text-align: right;\">\n",
       "      <th></th>\n",
       "      <th>노선명</th>\n",
       "      <th>역명</th>\n",
       "      <th>호기</th>\n",
       "    </tr>\n",
       "  </thead>\n",
       "  <tbody>\n",
       "    <tr>\n",
       "      <th>0</th>\n",
       "      <td>1호선</td>\n",
       "      <td>서울역</td>\n",
       "      <td>1</td>\n",
       "    </tr>\n",
       "    <tr>\n",
       "      <th>1</th>\n",
       "      <td>1호선</td>\n",
       "      <td>서울역</td>\n",
       "      <td>2</td>\n",
       "    </tr>\n",
       "    <tr>\n",
       "      <th>2</th>\n",
       "      <td>1호선</td>\n",
       "      <td>서울역</td>\n",
       "      <td>3</td>\n",
       "    </tr>\n",
       "    <tr>\n",
       "      <th>3</th>\n",
       "      <td>1호선</td>\n",
       "      <td>서울역</td>\n",
       "      <td>4</td>\n",
       "    </tr>\n",
       "    <tr>\n",
       "      <th>4</th>\n",
       "      <td>1호선</td>\n",
       "      <td>서울역</td>\n",
       "      <td>5</td>\n",
       "    </tr>\n",
       "  </tbody>\n",
       "</table>\n",
       "</div>"
      ],
      "text/plain": [
       "   노선명   역명  호기\n",
       "0  1호선  서울역   1\n",
       "1  1호선  서울역   2\n",
       "2  1호선  서울역   3\n",
       "3  1호선  서울역   4\n",
       "4  1호선  서울역   5"
      ]
     },
     "execution_count": 37,
     "metadata": {},
     "output_type": "execute_result"
    }
   ],
   "source": [
    "df.head()"
   ]
  },
  {
   "cell_type": "code",
   "execution_count": 39,
   "id": "51208f78-0dbf-4f7d-85fb-cd008f96549c",
   "metadata": {},
   "outputs": [
    {
     "data": {
      "text/plain": [
       "array(['1호선', '2호선', '3호선', '4호선', '5호선', '6호선', '7호선', '8호선'],\n",
       "      dtype=object)"
      ]
     },
     "execution_count": 39,
     "metadata": {},
     "output_type": "execute_result"
    }
   ],
   "source": [
    "df[\"노선명\"].unique()"
   ]
  },
  {
   "cell_type": "code",
   "execution_count": 41,
   "id": "9558e234-f6e1-4394-b765-8263630d358f",
   "metadata": {},
   "outputs": [
    {
     "data": {
      "text/plain": [
       "0       1호선\n",
       "1       1호선\n",
       "2       1호선\n",
       "3       1호선\n",
       "4       1호선\n",
       "       ... \n",
       "1866    8호선\n",
       "1867    8호선\n",
       "1868    8호선\n",
       "1869    8호선\n",
       "1870    8호선\n",
       "Name: 노선명, Length: 1871, dtype: object"
      ]
     },
     "execution_count": 41,
     "metadata": {},
     "output_type": "execute_result"
    }
   ],
   "source": [
    "df[\"노선명\"].str.replace(\"(연)\", \"\")"
   ]
  },
  {
   "cell_type": "code",
   "execution_count": 43,
   "id": "02a4bc10-93e8-48fd-ba6b-0f92e8545cfa",
   "metadata": {},
   "outputs": [],
   "source": [
    "# 노선명 8호선 뒤의 (연) 삭제\n",
    "df[\"노선명\"] = df[\"노선명\"].str.replace(\"(연)\", \"\")"
   ]
  },
  {
   "cell_type": "code",
   "execution_count": 45,
   "id": "f69b4de7-5b81-4b59-876e-136eedbdb576",
   "metadata": {},
   "outputs": [
    {
     "data": {
      "text/html": [
       "<div>\n",
       "<style scoped>\n",
       "    .dataframe tbody tr th:only-of-type {\n",
       "        vertical-align: middle;\n",
       "    }\n",
       "\n",
       "    .dataframe tbody tr th {\n",
       "        vertical-align: top;\n",
       "    }\n",
       "\n",
       "    .dataframe thead th {\n",
       "        text-align: right;\n",
       "    }\n",
       "</style>\n",
       "<table border=\"1\" class=\"dataframe\">\n",
       "  <thead>\n",
       "    <tr style=\"text-align: right;\">\n",
       "      <th></th>\n",
       "      <th>노선명</th>\n",
       "      <th>역명</th>\n",
       "      <th>호기</th>\n",
       "    </tr>\n",
       "  </thead>\n",
       "  <tbody>\n",
       "    <tr>\n",
       "      <th>0</th>\n",
       "      <td>1호선</td>\n",
       "      <td>서울역</td>\n",
       "      <td>1</td>\n",
       "    </tr>\n",
       "    <tr>\n",
       "      <th>1</th>\n",
       "      <td>1호선</td>\n",
       "      <td>서울역</td>\n",
       "      <td>2</td>\n",
       "    </tr>\n",
       "    <tr>\n",
       "      <th>2</th>\n",
       "      <td>1호선</td>\n",
       "      <td>서울역</td>\n",
       "      <td>3</td>\n",
       "    </tr>\n",
       "    <tr>\n",
       "      <th>3</th>\n",
       "      <td>1호선</td>\n",
       "      <td>서울역</td>\n",
       "      <td>4</td>\n",
       "    </tr>\n",
       "    <tr>\n",
       "      <th>4</th>\n",
       "      <td>1호선</td>\n",
       "      <td>서울역</td>\n",
       "      <td>5</td>\n",
       "    </tr>\n",
       "  </tbody>\n",
       "</table>\n",
       "</div>"
      ],
      "text/plain": [
       "   노선명   역명  호기\n",
       "0  1호선  서울역   1\n",
       "1  1호선  서울역   2\n",
       "2  1호선  서울역   3\n",
       "3  1호선  서울역   4\n",
       "4  1호선  서울역   5"
      ]
     },
     "execution_count": 45,
     "metadata": {},
     "output_type": "execute_result"
    }
   ],
   "source": [
    "df.head()"
   ]
  },
  {
   "cell_type": "code",
   "execution_count": 47,
   "id": "8c006b99-a079-4593-82c9-4867d92bf632",
   "metadata": {},
   "outputs": [
    {
     "data": {
      "text/plain": [
       "array(['서울역', '시청', '종각', '종로3가', '동대문', '동묘앞', '제기동', '청량리', '을지로입구',\n",
       "       '을지로4가', '동대문역사문화공원', '신당', '상왕십리', '왕십리', '한양대', '뚝섬', '성수', '용두',\n",
       "       '건대입구', '구의', '강변', '잠실나루', '잠실', '잠실새내', '종합운동장', '삼성', '선릉',\n",
       "       '역삼', '교대', '서초', '방배', '사당', '낙성대', '서울대입구', '봉천', '신림', '신대방',\n",
       "       '구로디지털단지', '대림', '신도림', '양천구청', '신정네거리', '문래', '영등포구청', '당산', '합정',\n",
       "       '홍대입구', '신촌', '이대', '아현', '충정로', '구파발', '연신내', '불광', '녹번', '독립문',\n",
       "       '경복궁', '안국', '을지로3가', '동대입구', '약수', '금호', '옥수', '압구정', '신사',\n",
       "       '고속터미널', '남부터미널', '양재', '매봉', '도곡', '대치', '학여울', '대청', '일원', '수서',\n",
       "       '가락시장', '경찰병원', '오금', '당고개', '상계', '노원', '창동', '쌍문', '수유', '미아',\n",
       "       '미아사거리', '길음', '성신여대입구', '한성대입구', '혜화', '충무로', '명동', '회현', '삼각지',\n",
       "       '신용산', '이촌', '총신대입구', '남태령', '방화', '김포공항', '송정', '마곡', '우장산', '화곡',\n",
       "       '까치산', '신정', '목동', '오목교', '양평', '영등포시장', '신길', '여의도', '여의나루', '마포',\n",
       "       '공덕', '애오개', '서대문', '광화문', '신금호', '행당', '마장', '답십리', '장한평', '군자',\n",
       "       '아차산', '광나루', '천호', '강동', '길동', '굽은다리', '명일', '고덕', '상일동', '둔촌동',\n",
       "       '올림픽공원', '방이', '개롱', '거여', '마천', '강일', '미사', '하남풍산', '하남시청',\n",
       "       '하남검단산', '응암', '역촌', '독바위', '구산', '새절', '증산', '디지털미디어시티', '월드컵경기장',\n",
       "       '마포구청', '망원', '상수', '광흥창', '대흥', '효창공원앞', '녹사평', '이태원', '한강진',\n",
       "       '버티고개', '청구', '창신', '보문', '안암', '고려대', '월곡', '상월곡', '돌곶이', '석계',\n",
       "       '태릉입구', '화랑대', '봉화산', '신내', '수락산', '마들', '중계', '하계', '공릉', '먹골',\n",
       "       '중화', '상봉', '면목', '사가정', '용마산', '중곡', '어린이대공원', '자양', '청담', '강남구청',\n",
       "       '학동', '논현', '반포', '내방', '이수', '남성', '숭실대입구', '상도', '장승배기',\n",
       "       '신대방삼거리', '보라매', '신풍', '남구로', '가산디지털단지', '철산', '광명사거리', '천왕', '온수',\n",
       "       '암사역사공원', '암사', '강동구청', '몽촌토성', '송파', '문정', '장지', '복정', '남위례',\n",
       "       '산성', '남한산성입구', '단대오거리', '모란'], dtype=object)"
      ]
     },
     "execution_count": 47,
     "metadata": {},
     "output_type": "execute_result"
    }
   ],
   "source": [
    "df[\"역명\"].unique()"
   ]
  },
  {
   "cell_type": "code",
   "execution_count": 49,
   "id": "7469b229-9cc5-4228-ae7f-0c50c0c5a3bd",
   "metadata": {},
   "outputs": [
    {
     "data": {
      "text/html": [
       "<div>\n",
       "<style scoped>\n",
       "    .dataframe tbody tr th:only-of-type {\n",
       "        vertical-align: middle;\n",
       "    }\n",
       "\n",
       "    .dataframe tbody tr th {\n",
       "        vertical-align: top;\n",
       "    }\n",
       "\n",
       "    .dataframe thead th {\n",
       "        text-align: right;\n",
       "    }\n",
       "</style>\n",
       "<table border=\"1\" class=\"dataframe\">\n",
       "  <thead>\n",
       "    <tr style=\"text-align: right;\">\n",
       "      <th></th>\n",
       "      <th>노선명</th>\n",
       "      <th>역명</th>\n",
       "      <th>호기</th>\n",
       "    </tr>\n",
       "  </thead>\n",
       "  <tbody>\n",
       "    <tr>\n",
       "      <th>0</th>\n",
       "      <td>1호선</td>\n",
       "      <td>서울역</td>\n",
       "      <td>1</td>\n",
       "    </tr>\n",
       "    <tr>\n",
       "      <th>1</th>\n",
       "      <td>1호선</td>\n",
       "      <td>서울역</td>\n",
       "      <td>2</td>\n",
       "    </tr>\n",
       "    <tr>\n",
       "      <th>2</th>\n",
       "      <td>1호선</td>\n",
       "      <td>서울역</td>\n",
       "      <td>3</td>\n",
       "    </tr>\n",
       "    <tr>\n",
       "      <th>3</th>\n",
       "      <td>1호선</td>\n",
       "      <td>서울역</td>\n",
       "      <td>4</td>\n",
       "    </tr>\n",
       "    <tr>\n",
       "      <th>4</th>\n",
       "      <td>1호선</td>\n",
       "      <td>서울역</td>\n",
       "      <td>5</td>\n",
       "    </tr>\n",
       "  </tbody>\n",
       "</table>\n",
       "</div>"
      ],
      "text/plain": [
       "   노선명   역명  호기\n",
       "0  1호선  서울역   1\n",
       "1  1호선  서울역   2\n",
       "2  1호선  서울역   3\n",
       "3  1호선  서울역   4\n",
       "4  1호선  서울역   5"
      ]
     },
     "execution_count": 49,
     "metadata": {},
     "output_type": "execute_result"
    }
   ],
   "source": [
    "df.head()"
   ]
  },
  {
   "cell_type": "code",
   "execution_count": 51,
   "id": "330e23c9-9212-46c7-b9dd-d2d72425bea7",
   "metadata": {},
   "outputs": [],
   "source": [
    "ndf = df.groupby([\"노선명\", \"역명\"])[[\"호기\"]].max()"
   ]
  },
  {
   "cell_type": "code",
   "execution_count": 53,
   "id": "5fd5e5b4-d512-42b3-9ad2-535e7f4e5ddf",
   "metadata": {},
   "outputs": [],
   "source": [
    "# 컬럼명 변경\n",
    "ndf = ndf.rename(columns={\"호기\" : \"에스컬레이터 대수\"})"
   ]
  },
  {
   "cell_type": "code",
   "execution_count": 55,
   "id": "1adbf757-2805-4d6a-8cb9-9ad121cdde97",
   "metadata": {},
   "outputs": [],
   "source": [
    "# 인덱스 초기화\n",
    "ndf = ndf.reset_index()"
   ]
  },
  {
   "cell_type": "code",
   "execution_count": 57,
   "id": "57d2c89c-2b42-43f6-90f5-637877ecf0ca",
   "metadata": {},
   "outputs": [
    {
     "data": {
      "text/html": [
       "<div>\n",
       "<style scoped>\n",
       "    .dataframe tbody tr th:only-of-type {\n",
       "        vertical-align: middle;\n",
       "    }\n",
       "\n",
       "    .dataframe tbody tr th {\n",
       "        vertical-align: top;\n",
       "    }\n",
       "\n",
       "    .dataframe thead th {\n",
       "        text-align: right;\n",
       "    }\n",
       "</style>\n",
       "<table border=\"1\" class=\"dataframe\">\n",
       "  <thead>\n",
       "    <tr style=\"text-align: right;\">\n",
       "      <th></th>\n",
       "      <th>노선명</th>\n",
       "      <th>역명</th>\n",
       "      <th>에스컬레이터 대수</th>\n",
       "    </tr>\n",
       "  </thead>\n",
       "  <tbody>\n",
       "    <tr>\n",
       "      <th>0</th>\n",
       "      <td>1호선</td>\n",
       "      <td>동대문</td>\n",
       "      <td>1</td>\n",
       "    </tr>\n",
       "    <tr>\n",
       "      <th>1</th>\n",
       "      <td>1호선</td>\n",
       "      <td>동묘앞</td>\n",
       "      <td>12</td>\n",
       "    </tr>\n",
       "    <tr>\n",
       "      <th>2</th>\n",
       "      <td>1호선</td>\n",
       "      <td>서울역</td>\n",
       "      <td>5</td>\n",
       "    </tr>\n",
       "    <tr>\n",
       "      <th>3</th>\n",
       "      <td>1호선</td>\n",
       "      <td>시청</td>\n",
       "      <td>3</td>\n",
       "    </tr>\n",
       "    <tr>\n",
       "      <th>4</th>\n",
       "      <td>1호선</td>\n",
       "      <td>제기동</td>\n",
       "      <td>2</td>\n",
       "    </tr>\n",
       "    <tr>\n",
       "      <th>...</th>\n",
       "      <td>...</td>\n",
       "      <td>...</td>\n",
       "      <td>...</td>\n",
       "    </tr>\n",
       "    <tr>\n",
       "      <th>247</th>\n",
       "      <td>8호선</td>\n",
       "      <td>송파</td>\n",
       "      <td>4</td>\n",
       "    </tr>\n",
       "    <tr>\n",
       "      <th>248</th>\n",
       "      <td>8호선</td>\n",
       "      <td>암사</td>\n",
       "      <td>4</td>\n",
       "    </tr>\n",
       "    <tr>\n",
       "      <th>249</th>\n",
       "      <td>8호선</td>\n",
       "      <td>암사역사공원</td>\n",
       "      <td>12</td>\n",
       "    </tr>\n",
       "    <tr>\n",
       "      <th>250</th>\n",
       "      <td>8호선</td>\n",
       "      <td>잠실</td>\n",
       "      <td>5</td>\n",
       "    </tr>\n",
       "    <tr>\n",
       "      <th>251</th>\n",
       "      <td>8호선</td>\n",
       "      <td>장지</td>\n",
       "      <td>8</td>\n",
       "    </tr>\n",
       "  </tbody>\n",
       "</table>\n",
       "<p>252 rows × 3 columns</p>\n",
       "</div>"
      ],
      "text/plain": [
       "     노선명      역명  에스컬레이터 대수\n",
       "0    1호선     동대문          1\n",
       "1    1호선     동묘앞         12\n",
       "2    1호선     서울역          5\n",
       "3    1호선      시청          3\n",
       "4    1호선     제기동          2\n",
       "..   ...     ...        ...\n",
       "247  8호선      송파          4\n",
       "248  8호선      암사          4\n",
       "249  8호선  암사역사공원         12\n",
       "250  8호선      잠실          5\n",
       "251  8호선      장지          8\n",
       "\n",
       "[252 rows x 3 columns]"
      ]
     },
     "execution_count": 57,
     "metadata": {},
     "output_type": "execute_result"
    }
   ],
   "source": [
    "ndf"
   ]
  },
  {
   "cell_type": "code",
   "execution_count": 59,
   "id": "416d5402-33db-430a-ad36-55533f7a2559",
   "metadata": {},
   "outputs": [],
   "source": [
    "# csv파일로 저장\n",
    "# ndf.to_csv(\"./result_files/escalator_cnt.csv\", index=False, encoding=\"utf-8-sig\")"
   ]
  },
  {
   "cell_type": "code",
   "execution_count": 64,
   "id": "cb3e252f-8e0f-4cbd-86f6-94ca28c100a4",
   "metadata": {},
   "outputs": [],
   "source": [
    "df9 = pd.read_excel(\"./data/9호선 편의시설 개수 정보.xlsx\")"
   ]
  },
  {
   "cell_type": "code",
   "execution_count": 66,
   "id": "c4764196-308c-47ed-881a-5c1d6dda845b",
   "metadata": {},
   "outputs": [
    {
     "data": {
      "text/html": [
       "<div>\n",
       "<style scoped>\n",
       "    .dataframe tbody tr th:only-of-type {\n",
       "        vertical-align: middle;\n",
       "    }\n",
       "\n",
       "    .dataframe tbody tr th {\n",
       "        vertical-align: top;\n",
       "    }\n",
       "\n",
       "    .dataframe thead th {\n",
       "        text-align: right;\n",
       "    }\n",
       "</style>\n",
       "<table border=\"1\" class=\"dataframe\">\n",
       "  <thead>\n",
       "    <tr style=\"text-align: right;\">\n",
       "      <th></th>\n",
       "      <th>노선명</th>\n",
       "      <th>역명</th>\n",
       "      <th>지하상가</th>\n",
       "      <th>편의점(역내)</th>\n",
       "      <th>공중화장실</th>\n",
       "      <th>자전거보관소</th>\n",
       "      <th>엘리베이터</th>\n",
       "      <th>에스컬레이터</th>\n",
       "      <th>물품보관함</th>\n",
       "      <th>무인민원발급기</th>\n",
       "      <th>소화기</th>\n",
       "    </tr>\n",
       "  </thead>\n",
       "  <tbody>\n",
       "    <tr>\n",
       "      <th>0</th>\n",
       "      <td>9호선</td>\n",
       "      <td>개화</td>\n",
       "      <td>-</td>\n",
       "      <td>0</td>\n",
       "      <td>1</td>\n",
       "      <td>30</td>\n",
       "      <td>2</td>\n",
       "      <td>4</td>\n",
       "      <td>1</td>\n",
       "      <td>0</td>\n",
       "      <td>58</td>\n",
       "    </tr>\n",
       "    <tr>\n",
       "      <th>1</th>\n",
       "      <td>9호선</td>\n",
       "      <td>김포공항</td>\n",
       "      <td>-</td>\n",
       "      <td>2</td>\n",
       "      <td>2</td>\n",
       "      <td>0</td>\n",
       "      <td>3</td>\n",
       "      <td>18</td>\n",
       "      <td>1</td>\n",
       "      <td>0</td>\n",
       "      <td>52</td>\n",
       "    </tr>\n",
       "    <tr>\n",
       "      <th>2</th>\n",
       "      <td>9호선</td>\n",
       "      <td>공항시장</td>\n",
       "      <td>-</td>\n",
       "      <td>1</td>\n",
       "      <td>1</td>\n",
       "      <td>30</td>\n",
       "      <td>3</td>\n",
       "      <td>18</td>\n",
       "      <td>1</td>\n",
       "      <td>0</td>\n",
       "      <td>102</td>\n",
       "    </tr>\n",
       "    <tr>\n",
       "      <th>3</th>\n",
       "      <td>9호선</td>\n",
       "      <td>신방화</td>\n",
       "      <td>-</td>\n",
       "      <td>0</td>\n",
       "      <td>1</td>\n",
       "      <td>30</td>\n",
       "      <td>4</td>\n",
       "      <td>22</td>\n",
       "      <td>1</td>\n",
       "      <td>0</td>\n",
       "      <td>62</td>\n",
       "    </tr>\n",
       "    <tr>\n",
       "      <th>4</th>\n",
       "      <td>9호선</td>\n",
       "      <td>마곡나루</td>\n",
       "      <td>-</td>\n",
       "      <td>1</td>\n",
       "      <td>1</td>\n",
       "      <td>40</td>\n",
       "      <td>4</td>\n",
       "      <td>14</td>\n",
       "      <td>1</td>\n",
       "      <td>1</td>\n",
       "      <td>51</td>\n",
       "    </tr>\n",
       "  </tbody>\n",
       "</table>\n",
       "</div>"
      ],
      "text/plain": [
       "   노선명    역명 지하상가  편의점(역내)  공중화장실  자전거보관소  엘리베이터  에스컬레이터  물품보관함  무인민원발급기  소화기\n",
       "0  9호선    개화    -        0      1      30      2       4      1        0   58\n",
       "1  9호선  김포공항    -        2      2       0      3      18      1        0   52\n",
       "2  9호선  공항시장    -        1      1      30      3      18      1        0  102\n",
       "3  9호선   신방화    -        0      1      30      4      22      1        0   62\n",
       "4  9호선  마곡나루    -        1      1      40      4      14      1        1   51"
      ]
     },
     "execution_count": 66,
     "metadata": {},
     "output_type": "execute_result"
    }
   ],
   "source": [
    "df9.head()"
   ]
  },
  {
   "cell_type": "code",
   "execution_count": 68,
   "id": "602b763c-ca0a-4703-b453-5c6ceffa9897",
   "metadata": {},
   "outputs": [],
   "source": [
    "df9 = df9[[\"노선명\",\"역명\",\"에스컬레이터\"]]"
   ]
  },
  {
   "cell_type": "code",
   "execution_count": 80,
   "id": "2e26c3de-a1db-4ccb-8ebb-a75b9dd40eed",
   "metadata": {},
   "outputs": [
    {
     "data": {
      "text/html": [
       "<div>\n",
       "<style scoped>\n",
       "    .dataframe tbody tr th:only-of-type {\n",
       "        vertical-align: middle;\n",
       "    }\n",
       "\n",
       "    .dataframe tbody tr th {\n",
       "        vertical-align: top;\n",
       "    }\n",
       "\n",
       "    .dataframe thead th {\n",
       "        text-align: right;\n",
       "    }\n",
       "</style>\n",
       "<table border=\"1\" class=\"dataframe\">\n",
       "  <thead>\n",
       "    <tr style=\"text-align: right;\">\n",
       "      <th></th>\n",
       "      <th>노선명</th>\n",
       "      <th>역명</th>\n",
       "      <th>에스컬레이터 대수</th>\n",
       "    </tr>\n",
       "  </thead>\n",
       "  <tbody>\n",
       "    <tr>\n",
       "      <th>0</th>\n",
       "      <td>9호선</td>\n",
       "      <td>개화</td>\n",
       "      <td>4</td>\n",
       "    </tr>\n",
       "    <tr>\n",
       "      <th>1</th>\n",
       "      <td>9호선</td>\n",
       "      <td>김포공항</td>\n",
       "      <td>18</td>\n",
       "    </tr>\n",
       "    <tr>\n",
       "      <th>2</th>\n",
       "      <td>9호선</td>\n",
       "      <td>공항시장</td>\n",
       "      <td>18</td>\n",
       "    </tr>\n",
       "    <tr>\n",
       "      <th>3</th>\n",
       "      <td>9호선</td>\n",
       "      <td>신방화</td>\n",
       "      <td>22</td>\n",
       "    </tr>\n",
       "    <tr>\n",
       "      <th>4</th>\n",
       "      <td>9호선</td>\n",
       "      <td>마곡나루</td>\n",
       "      <td>14</td>\n",
       "    </tr>\n",
       "  </tbody>\n",
       "</table>\n",
       "</div>"
      ],
      "text/plain": [
       "   노선명    역명  에스컬레이터 대수\n",
       "0  9호선    개화          4\n",
       "1  9호선  김포공항         18\n",
       "2  9호선  공항시장         18\n",
       "3  9호선   신방화         22\n",
       "4  9호선  마곡나루         14"
      ]
     },
     "execution_count": 80,
     "metadata": {},
     "output_type": "execute_result"
    }
   ],
   "source": [
    "df9.head()"
   ]
  },
  {
   "cell_type": "code",
   "execution_count": 72,
   "id": "8c601845-34ce-4544-bf58-f32ec7441d6d",
   "metadata": {},
   "outputs": [],
   "source": [
    "df9 = df9.rename(columns = {\"에스컬레이터\":\"에스컬레이터 대수\"})"
   ]
  },
  {
   "cell_type": "code",
   "execution_count": 74,
   "id": "88ec96e8-3cb2-431a-adf4-02dad3a56fa5",
   "metadata": {},
   "outputs": [],
   "source": [
    "escalator_count = pd.concat([ndf,df9],axis=0,ignore_index=True)"
   ]
  },
  {
   "cell_type": "code",
   "execution_count": 76,
   "id": "0cc345a4-45db-4aa9-8bc8-5e96867ca2c3",
   "metadata": {},
   "outputs": [
    {
     "data": {
      "text/html": [
       "<div>\n",
       "<style scoped>\n",
       "    .dataframe tbody tr th:only-of-type {\n",
       "        vertical-align: middle;\n",
       "    }\n",
       "\n",
       "    .dataframe tbody tr th {\n",
       "        vertical-align: top;\n",
       "    }\n",
       "\n",
       "    .dataframe thead th {\n",
       "        text-align: right;\n",
       "    }\n",
       "</style>\n",
       "<table border=\"1\" class=\"dataframe\">\n",
       "  <thead>\n",
       "    <tr style=\"text-align: right;\">\n",
       "      <th></th>\n",
       "      <th>노선명</th>\n",
       "      <th>역명</th>\n",
       "      <th>에스컬레이터 대수</th>\n",
       "    </tr>\n",
       "  </thead>\n",
       "  <tbody>\n",
       "    <tr>\n",
       "      <th>0</th>\n",
       "      <td>1호선</td>\n",
       "      <td>동대문</td>\n",
       "      <td>1</td>\n",
       "    </tr>\n",
       "    <tr>\n",
       "      <th>1</th>\n",
       "      <td>1호선</td>\n",
       "      <td>동묘앞</td>\n",
       "      <td>12</td>\n",
       "    </tr>\n",
       "    <tr>\n",
       "      <th>2</th>\n",
       "      <td>1호선</td>\n",
       "      <td>서울역</td>\n",
       "      <td>5</td>\n",
       "    </tr>\n",
       "    <tr>\n",
       "      <th>3</th>\n",
       "      <td>1호선</td>\n",
       "      <td>시청</td>\n",
       "      <td>3</td>\n",
       "    </tr>\n",
       "    <tr>\n",
       "      <th>4</th>\n",
       "      <td>1호선</td>\n",
       "      <td>제기동</td>\n",
       "      <td>2</td>\n",
       "    </tr>\n",
       "    <tr>\n",
       "      <th>...</th>\n",
       "      <td>...</td>\n",
       "      <td>...</td>\n",
       "      <td>...</td>\n",
       "    </tr>\n",
       "    <tr>\n",
       "      <th>285</th>\n",
       "      <td>9호선</td>\n",
       "      <td>송파나루</td>\n",
       "      <td>6</td>\n",
       "    </tr>\n",
       "    <tr>\n",
       "      <th>286</th>\n",
       "      <td>9호선</td>\n",
       "      <td>한성백제</td>\n",
       "      <td>10</td>\n",
       "    </tr>\n",
       "    <tr>\n",
       "      <th>287</th>\n",
       "      <td>9호선</td>\n",
       "      <td>올림픽공원</td>\n",
       "      <td>14</td>\n",
       "    </tr>\n",
       "    <tr>\n",
       "      <th>288</th>\n",
       "      <td>9호선</td>\n",
       "      <td>둔춘오륜</td>\n",
       "      <td>8</td>\n",
       "    </tr>\n",
       "    <tr>\n",
       "      <th>289</th>\n",
       "      <td>9호선</td>\n",
       "      <td>중앙보훈병원</td>\n",
       "      <td>10</td>\n",
       "    </tr>\n",
       "  </tbody>\n",
       "</table>\n",
       "<p>290 rows × 3 columns</p>\n",
       "</div>"
      ],
      "text/plain": [
       "     노선명      역명  에스컬레이터 대수\n",
       "0    1호선     동대문          1\n",
       "1    1호선     동묘앞         12\n",
       "2    1호선     서울역          5\n",
       "3    1호선      시청          3\n",
       "4    1호선     제기동          2\n",
       "..   ...     ...        ...\n",
       "285  9호선    송파나루          6\n",
       "286  9호선    한성백제         10\n",
       "287  9호선   올림픽공원         14\n",
       "288  9호선    둔춘오륜          8\n",
       "289  9호선  중앙보훈병원         10\n",
       "\n",
       "[290 rows x 3 columns]"
      ]
     },
     "execution_count": 76,
     "metadata": {},
     "output_type": "execute_result"
    }
   ],
   "source": [
    "escalator_count"
   ]
  },
  {
   "cell_type": "code",
   "execution_count": 78,
   "id": "deb0486a-5d60-4b1b-92d1-7b4ed5b064ed",
   "metadata": {},
   "outputs": [],
   "source": [
    "# csv파일로 저장\n",
    "escalator_count.to_csv(\"./result_files/escalator_cnt_include9.csv\", index=False, encoding=\"utf-8-sig\")"
   ]
  },
  {
   "cell_type": "code",
   "execution_count": null,
   "id": "8248bbcd-360b-40a3-bc6d-7216dc8ccfd5",
   "metadata": {},
   "outputs": [],
   "source": []
  }
 ],
 "metadata": {
  "kernelspec": {
   "display_name": "Python [conda env:base] *",
   "language": "python",
   "name": "conda-base-py"
  },
  "language_info": {
   "codemirror_mode": {
    "name": "ipython",
    "version": 3
   },
   "file_extension": ".py",
   "mimetype": "text/x-python",
   "name": "python",
   "nbconvert_exporter": "python",
   "pygments_lexer": "ipython3",
   "version": "3.12.7"
  }
 },
 "nbformat": 4,
 "nbformat_minor": 5
}
