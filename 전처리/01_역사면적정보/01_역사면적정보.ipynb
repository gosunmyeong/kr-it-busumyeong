{
 "cells": [
  {
   "cell_type": "code",
   "execution_count": 2,
   "id": "fbd64b63-ed20-4d54-89e7-991794a762c7",
   "metadata": {},
   "outputs": [],
   "source": [
    "import pandas as pd"
   ]
  },
  {
   "cell_type": "code",
   "execution_count": 4,
   "id": "95d2233d-dcf2-42dc-8614-dee58d0759f9",
   "metadata": {},
   "outputs": [],
   "source": [
    "df = pd.read_csv(\"./data/서울교통공사_역사면적정보_20250310.csv\", encoding=\"euc-kr\")"
   ]
  },
  {
   "cell_type": "code",
   "execution_count": 6,
   "id": "595513b7-a834-439d-b4af-cab53c2d69de",
   "metadata": {},
   "outputs": [
    {
     "data": {
      "text/html": [
       "<div>\n",
       "<style scoped>\n",
       "    .dataframe tbody tr th:only-of-type {\n",
       "        vertical-align: middle;\n",
       "    }\n",
       "\n",
       "    .dataframe tbody tr th {\n",
       "        vertical-align: top;\n",
       "    }\n",
       "\n",
       "    .dataframe thead th {\n",
       "        text-align: right;\n",
       "    }\n",
       "</style>\n",
       "<table border=\"1\" class=\"dataframe\">\n",
       "  <thead>\n",
       "    <tr style=\"text-align: right;\">\n",
       "      <th></th>\n",
       "      <th>연번</th>\n",
       "      <th>호선</th>\n",
       "      <th>역명</th>\n",
       "      <th>대합실면적</th>\n",
       "      <th>승강장면적</th>\n",
       "    </tr>\n",
       "  </thead>\n",
       "  <tbody>\n",
       "    <tr>\n",
       "      <th>0</th>\n",
       "      <td>1</td>\n",
       "      <td>1</td>\n",
       "      <td>서울역</td>\n",
       "      <td>8725.00</td>\n",
       "      <td>2080.00</td>\n",
       "    </tr>\n",
       "    <tr>\n",
       "      <th>1</th>\n",
       "      <td>2</td>\n",
       "      <td>1</td>\n",
       "      <td>시청</td>\n",
       "      <td>6863.00</td>\n",
       "      <td>3784.00</td>\n",
       "    </tr>\n",
       "    <tr>\n",
       "      <th>2</th>\n",
       "      <td>3</td>\n",
       "      <td>1</td>\n",
       "      <td>종각</td>\n",
       "      <td>7737.43</td>\n",
       "      <td>2672.81</td>\n",
       "    </tr>\n",
       "    <tr>\n",
       "      <th>3</th>\n",
       "      <td>4</td>\n",
       "      <td>1</td>\n",
       "      <td>종로3가</td>\n",
       "      <td>5628.00</td>\n",
       "      <td>3683.00</td>\n",
       "    </tr>\n",
       "    <tr>\n",
       "      <th>4</th>\n",
       "      <td>5</td>\n",
       "      <td>1</td>\n",
       "      <td>종로5가</td>\n",
       "      <td>7822.00</td>\n",
       "      <td>2208.00</td>\n",
       "    </tr>\n",
       "    <tr>\n",
       "      <th>5</th>\n",
       "      <td>6</td>\n",
       "      <td>1</td>\n",
       "      <td>동대문</td>\n",
       "      <td>3400.00</td>\n",
       "      <td>2090.00</td>\n",
       "    </tr>\n",
       "    <tr>\n",
       "      <th>6</th>\n",
       "      <td>7</td>\n",
       "      <td>1</td>\n",
       "      <td>동묘앞</td>\n",
       "      <td>5700.56</td>\n",
       "      <td>4194.19</td>\n",
       "    </tr>\n",
       "    <tr>\n",
       "      <th>7</th>\n",
       "      <td>8</td>\n",
       "      <td>1</td>\n",
       "      <td>신설동</td>\n",
       "      <td>4164.00</td>\n",
       "      <td>3076.00</td>\n",
       "    </tr>\n",
       "    <tr>\n",
       "      <th>8</th>\n",
       "      <td>9</td>\n",
       "      <td>1</td>\n",
       "      <td>제기동</td>\n",
       "      <td>5105.00</td>\n",
       "      <td>2815.00</td>\n",
       "    </tr>\n",
       "    <tr>\n",
       "      <th>9</th>\n",
       "      <td>10</td>\n",
       "      <td>1</td>\n",
       "      <td>청량리</td>\n",
       "      <td>5354.00</td>\n",
       "      <td>1771.00</td>\n",
       "    </tr>\n",
       "  </tbody>\n",
       "</table>\n",
       "</div>"
      ],
      "text/plain": [
       "   연번  호선    역명    대합실면적    승강장면적\n",
       "0   1   1   서울역  8725.00  2080.00\n",
       "1   2   1    시청  6863.00  3784.00\n",
       "2   3   1    종각  7737.43  2672.81\n",
       "3   4   1  종로3가  5628.00  3683.00\n",
       "4   5   1  종로5가  7822.00  2208.00\n",
       "5   6   1   동대문  3400.00  2090.00\n",
       "6   7   1   동묘앞  5700.56  4194.19\n",
       "7   8   1   신설동  4164.00  3076.00\n",
       "8   9   1   제기동  5105.00  2815.00\n",
       "9  10   1   청량리  5354.00  1771.00"
      ]
     },
     "execution_count": 6,
     "metadata": {},
     "output_type": "execute_result"
    }
   ],
   "source": [
    "df.head(10)"
   ]
  },
  {
   "cell_type": "code",
   "execution_count": 8,
   "id": "0148f3a5-f83f-4009-954d-791d1b2305bb",
   "metadata": {},
   "outputs": [
    {
     "data": {
      "text/html": [
       "<div>\n",
       "<style scoped>\n",
       "    .dataframe tbody tr th:only-of-type {\n",
       "        vertical-align: middle;\n",
       "    }\n",
       "\n",
       "    .dataframe tbody tr th {\n",
       "        vertical-align: top;\n",
       "    }\n",
       "\n",
       "    .dataframe thead th {\n",
       "        text-align: right;\n",
       "    }\n",
       "</style>\n",
       "<table border=\"1\" class=\"dataframe\">\n",
       "  <thead>\n",
       "    <tr style=\"text-align: right;\">\n",
       "      <th></th>\n",
       "      <th>연번</th>\n",
       "      <th>호선</th>\n",
       "      <th>역명</th>\n",
       "      <th>대합실면적</th>\n",
       "      <th>승강장면적</th>\n",
       "    </tr>\n",
       "  </thead>\n",
       "  <tbody>\n",
       "    <tr>\n",
       "      <th>267</th>\n",
       "      <td>268</td>\n",
       "      <td>8</td>\n",
       "      <td>문정</td>\n",
       "      <td>3278.75</td>\n",
       "      <td>1915.20</td>\n",
       "    </tr>\n",
       "    <tr>\n",
       "      <th>268</th>\n",
       "      <td>269</td>\n",
       "      <td>8</td>\n",
       "      <td>장지</td>\n",
       "      <td>4099.74</td>\n",
       "      <td>1628.15</td>\n",
       "    </tr>\n",
       "    <tr>\n",
       "      <th>269</th>\n",
       "      <td>270</td>\n",
       "      <td>8</td>\n",
       "      <td>복정</td>\n",
       "      <td>4444.30</td>\n",
       "      <td>2141.55</td>\n",
       "    </tr>\n",
       "    <tr>\n",
       "      <th>270</th>\n",
       "      <td>271</td>\n",
       "      <td>8</td>\n",
       "      <td>남위례</td>\n",
       "      <td>4177.54</td>\n",
       "      <td>2168.78</td>\n",
       "    </tr>\n",
       "    <tr>\n",
       "      <th>271</th>\n",
       "      <td>272</td>\n",
       "      <td>8</td>\n",
       "      <td>산성</td>\n",
       "      <td>2874.59</td>\n",
       "      <td>2263.20</td>\n",
       "    </tr>\n",
       "    <tr>\n",
       "      <th>272</th>\n",
       "      <td>273</td>\n",
       "      <td>8</td>\n",
       "      <td>남한산성입구</td>\n",
       "      <td>3932.29</td>\n",
       "      <td>1480.00</td>\n",
       "    </tr>\n",
       "    <tr>\n",
       "      <th>273</th>\n",
       "      <td>274</td>\n",
       "      <td>8</td>\n",
       "      <td>단대오거리</td>\n",
       "      <td>6496.42</td>\n",
       "      <td>1636.80</td>\n",
       "    </tr>\n",
       "    <tr>\n",
       "      <th>274</th>\n",
       "      <td>275</td>\n",
       "      <td>8</td>\n",
       "      <td>신흥</td>\n",
       "      <td>3196.61</td>\n",
       "      <td>1665.00</td>\n",
       "    </tr>\n",
       "    <tr>\n",
       "      <th>275</th>\n",
       "      <td>276</td>\n",
       "      <td>8</td>\n",
       "      <td>수진</td>\n",
       "      <td>3402.31</td>\n",
       "      <td>1665.00</td>\n",
       "    </tr>\n",
       "    <tr>\n",
       "      <th>276</th>\n",
       "      <td>277</td>\n",
       "      <td>8</td>\n",
       "      <td>모란</td>\n",
       "      <td>7758.77</td>\n",
       "      <td>2160.00</td>\n",
       "    </tr>\n",
       "  </tbody>\n",
       "</table>\n",
       "</div>"
      ],
      "text/plain": [
       "      연번  호선      역명    대합실면적    승강장면적\n",
       "267  268   8      문정  3278.75  1915.20\n",
       "268  269   8      장지  4099.74  1628.15\n",
       "269  270   8      복정  4444.30  2141.55\n",
       "270  271   8     남위례  4177.54  2168.78\n",
       "271  272   8      산성  2874.59  2263.20\n",
       "272  273   8  남한산성입구  3932.29  1480.00\n",
       "273  274   8   단대오거리  6496.42  1636.80\n",
       "274  275   8      신흥  3196.61  1665.00\n",
       "275  276   8      수진  3402.31  1665.00\n",
       "276  277   8      모란  7758.77  2160.00"
      ]
     },
     "execution_count": 8,
     "metadata": {},
     "output_type": "execute_result"
    }
   ],
   "source": [
    "df.tail(10)"
   ]
  },
  {
   "cell_type": "code",
   "execution_count": 10,
   "id": "a3a1bfbf-cc6b-4ff8-a679-554aef5f113f",
   "metadata": {},
   "outputs": [
    {
     "name": "stdout",
     "output_type": "stream",
     "text": [
      "<class 'pandas.core.frame.DataFrame'>\n",
      "RangeIndex: 277 entries, 0 to 276\n",
      "Data columns (total 5 columns):\n",
      " #   Column  Non-Null Count  Dtype  \n",
      "---  ------  --------------  -----  \n",
      " 0   연번      277 non-null    int64  \n",
      " 1   호선      277 non-null    int64  \n",
      " 2   역명      277 non-null    object \n",
      " 3   대합실면적   277 non-null    float64\n",
      " 4   승강장면적   277 non-null    float64\n",
      "dtypes: float64(2), int64(2), object(1)\n",
      "memory usage: 10.9+ KB\n"
     ]
    }
   ],
   "source": [
    "df.info()"
   ]
  },
  {
   "cell_type": "code",
   "execution_count": 12,
   "id": "f3c9fd6d-462a-453e-bf38-b35bae6481e1",
   "metadata": {},
   "outputs": [
    {
     "data": {
      "text/plain": [
       "array(['서울역', '시청', '종각', '종로3가', '종로5가', '동대문', '동묘앞', '신설동', '제기동',\n",
       "       '청량리', '을지로입구', '을지로3가', '을지로4가', '동대문역사문화공원', '신당', '상왕십리', '왕십리',\n",
       "       '한양대', '뚝섬', '성수', '건대입구', '구의', '강변', '잠실나루', '잠실', '잠실새내',\n",
       "       '종합운동장', '삼성', '선릉', '역삼', '강남', '교대', '서초', '방배', '사당', '낙성대',\n",
       "       '서울대입구', '봉천', '신림', '신대방', '구로디지털단지', '대림', '신도림', '문래', '영등포구청',\n",
       "       '당산', '합정', '홍대입구', '신촌', '이대', '아현', '충정로', '용답', '신답', '용두',\n",
       "       '도림천', '양천구청', '신정네거리', '까치산', '지축', '구파발', '연신내', '불광', '녹번',\n",
       "       '홍제', '무악재', '독립문', '경복궁', '안국', '충무로', '동대입구', '약수', '금호', '옥수',\n",
       "       '압구정', '신사', '잠원', '고속터미널', '남부터미널', '양재', '매봉', '도곡', '대치', '학여울',\n",
       "       '대청', '일원', '수서', '가락시장', '경찰병원', '오금', '불암산', '상계', '노원', '창동',\n",
       "       '쌍문', '수유', '미아', '미아사거리', '길음', '성신여대입구', '한성대입구', '혜화', '명동',\n",
       "       '회현', '숙대입구', '삼각지', '신용산', '이촌', '동작', '총신대입구', '남태령', '방화',\n",
       "       '개화산', '김포공항', '송정', '마곡', '발산', '우장산', '화곡', '신정', '목동', '오목교',\n",
       "       '양평', '영등포시장', '신길', '여의도', '여의나루', '마포', '공덕', '애오개', '서대문',\n",
       "       '광화문', '청구', '신금호', '행당', '마장', '답십리', '장한평', '군자', '아차산', '광나루',\n",
       "       '천호', '강동', '길동', '굽은다리', '명일', '고덕', '상일동', '강일', '미사', '하남풍산',\n",
       "       '하남시청', '하남검단산', '둔촌동', '올림픽공원', '방이', '개롱', '거여', '마천', '응암',\n",
       "       '역촌', '독바위', '구산', '새절', '증산', '디지털미디어시티', '월드컵경기장', '마포구청', '망원',\n",
       "       '상수', '광흥창', '대흥', '효창공원앞', '녹사평', '이태원', '한강진', '버티고개', '창신',\n",
       "       '보문', '안암', '고려대', '월곡', '상월곡', '돌곶이', '석계', '태릉입구', '화랑대', '봉화산',\n",
       "       '신내', '장암', '도봉산', '수락산', '마들', '중계', '하계', '공릉', '먹골', '중화', '상봉',\n",
       "       '면목', '사가정', '용마산', '중곡', '어린이대공원', '자양', '청담', '강남구청', '학동', '논현',\n",
       "       '반포', '내방', '이수', '남성', '숭실대입구', '상도', '장승배기', '신대방삼거리', '보라매',\n",
       "       '신풍', '남구로', '가산디지털단지', '철산', '광명사거리', '천왕', '온수', '암사역사공원', '암사',\n",
       "       '강동구청', '몽촌토성', '석촌', '송파', '문정', '장지', '복정', '남위례', '산성',\n",
       "       '남한산성입구', '단대오거리', '신흥', '수진', '모란'], dtype=object)"
      ]
     },
     "execution_count": 12,
     "metadata": {},
     "output_type": "execute_result"
    }
   ],
   "source": [
    "df[\"역명\"].unique()"
   ]
  },
  {
   "cell_type": "code",
   "execution_count": 14,
   "id": "478daa75-c95d-471d-aa5c-0825ba63cb46",
   "metadata": {},
   "outputs": [
    {
     "data": {
      "text/plain": [
       "241"
      ]
     },
     "execution_count": 14,
     "metadata": {},
     "output_type": "execute_result"
    }
   ],
   "source": [
    "#  중복을 제거한 역명 개수\n",
    "len(df[\"역명\"].unique())"
   ]
  },
  {
   "cell_type": "code",
   "execution_count": 16,
   "id": "32f24f7d-a2ed-46d6-b504-7787e5ba793b",
   "metadata": {},
   "outputs": [
    {
     "data": {
      "text/plain": [
       "연번         int64\n",
       "호선         int64\n",
       "역명        object\n",
       "대합실면적    float64\n",
       "승강장면적    float64\n",
       "dtype: object"
      ]
     },
     "execution_count": 16,
     "metadata": {},
     "output_type": "execute_result"
    }
   ],
   "source": [
    "df.dtypes"
   ]
  },
  {
   "cell_type": "code",
   "execution_count": 18,
   "id": "47f43fa1-9c4d-4fab-9289-36b5f7ec40b6",
   "metadata": {},
   "outputs": [
    {
     "data": {
      "text/html": [
       "<div>\n",
       "<style scoped>\n",
       "    .dataframe tbody tr th:only-of-type {\n",
       "        vertical-align: middle;\n",
       "    }\n",
       "\n",
       "    .dataframe tbody tr th {\n",
       "        vertical-align: top;\n",
       "    }\n",
       "\n",
       "    .dataframe thead th {\n",
       "        text-align: right;\n",
       "    }\n",
       "</style>\n",
       "<table border=\"1\" class=\"dataframe\">\n",
       "  <thead>\n",
       "    <tr style=\"text-align: right;\">\n",
       "      <th></th>\n",
       "      <th>연번</th>\n",
       "      <th>호선</th>\n",
       "      <th>대합실면적</th>\n",
       "      <th>승강장면적</th>\n",
       "    </tr>\n",
       "  </thead>\n",
       "  <tbody>\n",
       "    <tr>\n",
       "      <th>count</th>\n",
       "      <td>277.00000</td>\n",
       "      <td>277.000000</td>\n",
       "      <td>277.000000</td>\n",
       "      <td>277.000000</td>\n",
       "    </tr>\n",
       "    <tr>\n",
       "      <th>mean</th>\n",
       "      <td>139.00000</td>\n",
       "      <td>4.613718</td>\n",
       "      <td>5675.247148</td>\n",
       "      <td>2337.263977</td>\n",
       "    </tr>\n",
       "    <tr>\n",
       "      <th>std</th>\n",
       "      <td>80.10722</td>\n",
       "      <td>2.012342</td>\n",
       "      <td>2727.399659</td>\n",
       "      <td>750.309867</td>\n",
       "    </tr>\n",
       "    <tr>\n",
       "      <th>min</th>\n",
       "      <td>1.00000</td>\n",
       "      <td>1.000000</td>\n",
       "      <td>0.000000</td>\n",
       "      <td>752.280000</td>\n",
       "    </tr>\n",
       "    <tr>\n",
       "      <th>25%</th>\n",
       "      <td>70.00000</td>\n",
       "      <td>3.000000</td>\n",
       "      <td>3925.640000</td>\n",
       "      <td>1909.530000</td>\n",
       "    </tr>\n",
       "    <tr>\n",
       "      <th>50%</th>\n",
       "      <td>139.00000</td>\n",
       "      <td>5.000000</td>\n",
       "      <td>5097.040000</td>\n",
       "      <td>2168.780000</td>\n",
       "    </tr>\n",
       "    <tr>\n",
       "      <th>75%</th>\n",
       "      <td>208.00000</td>\n",
       "      <td>6.000000</td>\n",
       "      <td>7001.380000</td>\n",
       "      <td>2617.500000</td>\n",
       "    </tr>\n",
       "    <tr>\n",
       "      <th>max</th>\n",
       "      <td>277.00000</td>\n",
       "      <td>8.000000</td>\n",
       "      <td>20239.470000</td>\n",
       "      <td>7175.000000</td>\n",
       "    </tr>\n",
       "  </tbody>\n",
       "</table>\n",
       "</div>"
      ],
      "text/plain": [
       "              연번          호선         대합실면적        승강장면적\n",
       "count  277.00000  277.000000    277.000000   277.000000\n",
       "mean   139.00000    4.613718   5675.247148  2337.263977\n",
       "std     80.10722    2.012342   2727.399659   750.309867\n",
       "min      1.00000    1.000000      0.000000   752.280000\n",
       "25%     70.00000    3.000000   3925.640000  1909.530000\n",
       "50%    139.00000    5.000000   5097.040000  2168.780000\n",
       "75%    208.00000    6.000000   7001.380000  2617.500000\n",
       "max    277.00000    8.000000  20239.470000  7175.000000"
      ]
     },
     "execution_count": 18,
     "metadata": {},
     "output_type": "execute_result"
    }
   ],
   "source": [
    "df.describe()"
   ]
  },
  {
   "cell_type": "code",
   "execution_count": 20,
   "id": "e8c9a8f2-1685-4d45-a736-c063157e19dd",
   "metadata": {},
   "outputs": [
    {
     "data": {
      "text/plain": [
       "연번       277\n",
       "호선       277\n",
       "역명       277\n",
       "대합실면적    277\n",
       "승강장면적    277\n",
       "dtype: int64"
      ]
     },
     "execution_count": 20,
     "metadata": {},
     "output_type": "execute_result"
    }
   ],
   "source": [
    "df.count()"
   ]
  },
  {
   "cell_type": "code",
   "execution_count": 22,
   "id": "23d78cf2-ce34-44cd-b750-69e7959f7639",
   "metadata": {},
   "outputs": [
    {
     "data": {
      "text/plain": [
       "5675.24714801444"
      ]
     },
     "execution_count": 22,
     "metadata": {},
     "output_type": "execute_result"
    }
   ],
   "source": [
    "df[\"대합실면적\"].mean()"
   ]
  },
  {
   "cell_type": "code",
   "execution_count": 24,
   "id": "2efae22a-9d35-4f12-90ff-0cdfc3b63fbc",
   "metadata": {},
   "outputs": [
    {
     "data": {
      "text/plain": [
       "2337.263976714801"
      ]
     },
     "execution_count": 24,
     "metadata": {},
     "output_type": "execute_result"
    }
   ],
   "source": [
    "df[\"승강장면적\"].mean()"
   ]
  },
  {
   "cell_type": "code",
   "execution_count": 26,
   "id": "a3ebf81f-d15c-43e5-a3a3-b32f0f7df2c1",
   "metadata": {},
   "outputs": [
    {
     "data": {
      "text/plain": [
       "Index(['연번', '호선', '역명', '대합실면적', '승강장면적'], dtype='object')"
      ]
     },
     "execution_count": 26,
     "metadata": {},
     "output_type": "execute_result"
    }
   ],
   "source": [
    "df.columns"
   ]
  },
  {
   "cell_type": "code",
   "execution_count": 28,
   "id": "5aeed057-c403-47a2-af2e-f71241856330",
   "metadata": {},
   "outputs": [],
   "source": [
    "# 컬럼명 변경\n",
    "df.columns = ['연번', '노선명', '역명', '대합실면적', '승강장면적']"
   ]
  },
  {
   "cell_type": "code",
   "execution_count": 30,
   "id": "fada7ce7-3d95-4bd4-af46-49702767fc86",
   "metadata": {},
   "outputs": [
    {
     "data": {
      "text/html": [
       "<div>\n",
       "<style scoped>\n",
       "    .dataframe tbody tr th:only-of-type {\n",
       "        vertical-align: middle;\n",
       "    }\n",
       "\n",
       "    .dataframe tbody tr th {\n",
       "        vertical-align: top;\n",
       "    }\n",
       "\n",
       "    .dataframe thead th {\n",
       "        text-align: right;\n",
       "    }\n",
       "</style>\n",
       "<table border=\"1\" class=\"dataframe\">\n",
       "  <thead>\n",
       "    <tr style=\"text-align: right;\">\n",
       "      <th></th>\n",
       "      <th>연번</th>\n",
       "      <th>노선명</th>\n",
       "      <th>역명</th>\n",
       "      <th>대합실면적</th>\n",
       "      <th>승강장면적</th>\n",
       "    </tr>\n",
       "  </thead>\n",
       "  <tbody>\n",
       "    <tr>\n",
       "      <th>0</th>\n",
       "      <td>1</td>\n",
       "      <td>1</td>\n",
       "      <td>서울역</td>\n",
       "      <td>8725.00</td>\n",
       "      <td>2080.00</td>\n",
       "    </tr>\n",
       "    <tr>\n",
       "      <th>1</th>\n",
       "      <td>2</td>\n",
       "      <td>1</td>\n",
       "      <td>시청</td>\n",
       "      <td>6863.00</td>\n",
       "      <td>3784.00</td>\n",
       "    </tr>\n",
       "    <tr>\n",
       "      <th>2</th>\n",
       "      <td>3</td>\n",
       "      <td>1</td>\n",
       "      <td>종각</td>\n",
       "      <td>7737.43</td>\n",
       "      <td>2672.81</td>\n",
       "    </tr>\n",
       "    <tr>\n",
       "      <th>3</th>\n",
       "      <td>4</td>\n",
       "      <td>1</td>\n",
       "      <td>종로3가</td>\n",
       "      <td>5628.00</td>\n",
       "      <td>3683.00</td>\n",
       "    </tr>\n",
       "    <tr>\n",
       "      <th>4</th>\n",
       "      <td>5</td>\n",
       "      <td>1</td>\n",
       "      <td>종로5가</td>\n",
       "      <td>7822.00</td>\n",
       "      <td>2208.00</td>\n",
       "    </tr>\n",
       "  </tbody>\n",
       "</table>\n",
       "</div>"
      ],
      "text/plain": [
       "   연번  노선명    역명    대합실면적    승강장면적\n",
       "0   1    1   서울역  8725.00  2080.00\n",
       "1   2    1    시청  6863.00  3784.00\n",
       "2   3    1    종각  7737.43  2672.81\n",
       "3   4    1  종로3가  5628.00  3683.00\n",
       "4   5    1  종로5가  7822.00  2208.00"
      ]
     },
     "execution_count": 30,
     "metadata": {},
     "output_type": "execute_result"
    }
   ],
   "source": [
    "df.head()"
   ]
  },
  {
   "cell_type": "code",
   "execution_count": 32,
   "id": "5769d350-7f0a-40da-8675-f60af82e01ac",
   "metadata": {},
   "outputs": [],
   "source": [
    "#연번 컬럼 삭제\n",
    "df = df.drop(\"연번\", axis = 1)"
   ]
  },
  {
   "cell_type": "code",
   "execution_count": 34,
   "id": "a20c75f2-0d24-4fe4-8c05-92a2237c55b2",
   "metadata": {},
   "outputs": [
    {
     "data": {
      "text/html": [
       "<div>\n",
       "<style scoped>\n",
       "    .dataframe tbody tr th:only-of-type {\n",
       "        vertical-align: middle;\n",
       "    }\n",
       "\n",
       "    .dataframe tbody tr th {\n",
       "        vertical-align: top;\n",
       "    }\n",
       "\n",
       "    .dataframe thead th {\n",
       "        text-align: right;\n",
       "    }\n",
       "</style>\n",
       "<table border=\"1\" class=\"dataframe\">\n",
       "  <thead>\n",
       "    <tr style=\"text-align: right;\">\n",
       "      <th></th>\n",
       "      <th>노선명</th>\n",
       "      <th>역명</th>\n",
       "      <th>대합실면적</th>\n",
       "      <th>승강장면적</th>\n",
       "    </tr>\n",
       "  </thead>\n",
       "  <tbody>\n",
       "    <tr>\n",
       "      <th>0</th>\n",
       "      <td>1</td>\n",
       "      <td>서울역</td>\n",
       "      <td>8725.00</td>\n",
       "      <td>2080.00</td>\n",
       "    </tr>\n",
       "    <tr>\n",
       "      <th>1</th>\n",
       "      <td>1</td>\n",
       "      <td>시청</td>\n",
       "      <td>6863.00</td>\n",
       "      <td>3784.00</td>\n",
       "    </tr>\n",
       "    <tr>\n",
       "      <th>2</th>\n",
       "      <td>1</td>\n",
       "      <td>종각</td>\n",
       "      <td>7737.43</td>\n",
       "      <td>2672.81</td>\n",
       "    </tr>\n",
       "    <tr>\n",
       "      <th>3</th>\n",
       "      <td>1</td>\n",
       "      <td>종로3가</td>\n",
       "      <td>5628.00</td>\n",
       "      <td>3683.00</td>\n",
       "    </tr>\n",
       "    <tr>\n",
       "      <th>4</th>\n",
       "      <td>1</td>\n",
       "      <td>종로5가</td>\n",
       "      <td>7822.00</td>\n",
       "      <td>2208.00</td>\n",
       "    </tr>\n",
       "  </tbody>\n",
       "</table>\n",
       "</div>"
      ],
      "text/plain": [
       "   노선명    역명    대합실면적    승강장면적\n",
       "0    1   서울역  8725.00  2080.00\n",
       "1    1    시청  6863.00  3784.00\n",
       "2    1    종각  7737.43  2672.81\n",
       "3    1  종로3가  5628.00  3683.00\n",
       "4    1  종로5가  7822.00  2208.00"
      ]
     },
     "execution_count": 34,
     "metadata": {},
     "output_type": "execute_result"
    }
   ],
   "source": [
    "df.head()"
   ]
  },
  {
   "cell_type": "code",
   "execution_count": 42,
   "id": "65780ee5-83ad-442d-8ebb-17c5c5073c69",
   "metadata": {},
   "outputs": [],
   "source": [
    "# csv파일로 저장\n",
    "df.to_csv('./result_files/subway-extent.csv', index=False, encoding=\"utf-8-sig\")"
   ]
  },
  {
   "cell_type": "code",
   "execution_count": null,
   "id": "1ee30a53-fb9a-4172-ac56-5c3c6ed6013f",
   "metadata": {},
   "outputs": [],
   "source": []
  },
  {
   "cell_type": "code",
   "execution_count": null,
   "id": "5398b0a6-8a94-4df1-a4e3-c9b8db00eb23",
   "metadata": {},
   "outputs": [],
   "source": []
  }
 ],
 "metadata": {
  "kernelspec": {
   "display_name": "Python [conda env:base] *",
   "language": "python",
   "name": "conda-base-py"
  },
  "language_info": {
   "codemirror_mode": {
    "name": "ipython",
    "version": 3
   },
   "file_extension": ".py",
   "mimetype": "text/x-python",
   "name": "python",
   "nbconvert_exporter": "python",
   "pygments_lexer": "ipython3",
   "version": "3.12.7"
  }
 },
 "nbformat": 4,
 "nbformat_minor": 5
}
