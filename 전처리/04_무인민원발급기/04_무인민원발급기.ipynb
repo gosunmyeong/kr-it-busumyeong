{
 "cells": [
  {
   "cell_type": "code",
   "execution_count": 124,
   "id": "21b15f7a-7c41-438a-b5fc-c2de0d2491d9",
   "metadata": {},
   "outputs": [],
   "source": [
    "import pandas as pd"
   ]
  },
  {
   "cell_type": "code",
   "execution_count": 126,
   "id": "ca3ce8f1-39a7-4005-8f74-ed6fdb7acf14",
   "metadata": {},
   "outputs": [],
   "source": [
    "df = pd.read_csv(\"./data/서울교통공사_무인민원발급기현황(1-8호선).csv\", encoding = \"euc-kr\")"
   ]
  },
  {
   "cell_type": "code",
   "execution_count": 128,
   "id": "8d470f2b-9ef2-4fcb-b1ef-72b049d2d1f8",
   "metadata": {},
   "outputs": [
    {
     "data": {
      "text/html": [
       "<div>\n",
       "<style scoped>\n",
       "    .dataframe tbody tr th:only-of-type {\n",
       "        vertical-align: middle;\n",
       "    }\n",
       "\n",
       "    .dataframe tbody tr th {\n",
       "        vertical-align: top;\n",
       "    }\n",
       "\n",
       "    .dataframe thead th {\n",
       "        text-align: right;\n",
       "    }\n",
       "</style>\n",
       "<table border=\"1\" class=\"dataframe\">\n",
       "  <thead>\n",
       "    <tr style=\"text-align: right;\">\n",
       "      <th></th>\n",
       "      <th>연번</th>\n",
       "      <th>호선</th>\n",
       "      <th>역명</th>\n",
       "      <th>기기종류</th>\n",
       "      <th>지상지하구분</th>\n",
       "      <th>역층</th>\n",
       "      <th>상세위치</th>\n",
       "      <th>설치대수</th>\n",
       "      <th>계약자(업체명)</th>\n",
       "      <th>전화번호</th>\n",
       "    </tr>\n",
       "  </thead>\n",
       "  <tbody>\n",
       "    <tr>\n",
       "      <th>0</th>\n",
       "      <td>1</td>\n",
       "      <td>1</td>\n",
       "      <td>종각</td>\n",
       "      <td>무인민원발급기</td>\n",
       "      <td>지하</td>\n",
       "      <td>B1</td>\n",
       "      <td>대합실(종로타워 가는 방향)</td>\n",
       "      <td>1</td>\n",
       "      <td>종로구청</td>\n",
       "      <td>02-2148-1913</td>\n",
       "    </tr>\n",
       "    <tr>\n",
       "      <th>1</th>\n",
       "      <td>2</td>\n",
       "      <td>2</td>\n",
       "      <td>삼성</td>\n",
       "      <td>무인민원발급기</td>\n",
       "      <td>지하</td>\n",
       "      <td>B1</td>\n",
       "      <td>표 내는 곳(가) 옆(1번 2번 출입구 근처)</td>\n",
       "      <td>1</td>\n",
       "      <td>강남구청</td>\n",
       "      <td>02-3423-5381</td>\n",
       "    </tr>\n",
       "    <tr>\n",
       "      <th>2</th>\n",
       "      <td>3</td>\n",
       "      <td>2</td>\n",
       "      <td>선릉</td>\n",
       "      <td>무인민원발급기</td>\n",
       "      <td>지하</td>\n",
       "      <td>B2</td>\n",
       "      <td>네이처리퍼블릭 옆</td>\n",
       "      <td>2</td>\n",
       "      <td>강남구청</td>\n",
       "      <td>02-3423-5381</td>\n",
       "    </tr>\n",
       "    <tr>\n",
       "      <th>3</th>\n",
       "      <td>4</td>\n",
       "      <td>2</td>\n",
       "      <td>강남</td>\n",
       "      <td>무인민원발급기</td>\n",
       "      <td>지하</td>\n",
       "      <td>B1</td>\n",
       "      <td>1번 12번 출입구 사이</td>\n",
       "      <td>1</td>\n",
       "      <td>강남구청</td>\n",
       "      <td>02-3423-5381</td>\n",
       "    </tr>\n",
       "    <tr>\n",
       "      <th>4</th>\n",
       "      <td>5</td>\n",
       "      <td>2</td>\n",
       "      <td>역삼</td>\n",
       "      <td>무인민원발급기</td>\n",
       "      <td>지하</td>\n",
       "      <td>B1</td>\n",
       "      <td>5번 6번 7번 8번 출구 근처</td>\n",
       "      <td>1</td>\n",
       "      <td>강남구청</td>\n",
       "      <td>02-3423-5381</td>\n",
       "    </tr>\n",
       "  </tbody>\n",
       "</table>\n",
       "</div>"
      ],
      "text/plain": [
       "   연번  호선  역명     기기종류 지상지하구분  역층                       상세위치  설치대수 계약자(업체명)  \\\n",
       "0   1   1  종각  무인민원발급기     지하  B1            대합실(종로타워 가는 방향)     1     종로구청   \n",
       "1   2   2  삼성  무인민원발급기     지하  B1  표 내는 곳(가) 옆(1번 2번 출입구 근처)     1     강남구청   \n",
       "2   3   2  선릉  무인민원발급기     지하  B2                  네이처리퍼블릭 옆     2     강남구청   \n",
       "3   4   2  강남  무인민원발급기     지하  B1              1번 12번 출입구 사이     1     강남구청   \n",
       "4   5   2  역삼  무인민원발급기     지하  B1          5번 6번 7번 8번 출구 근처     1     강남구청   \n",
       "\n",
       "           전화번호  \n",
       "0  02-2148-1913  \n",
       "1  02-3423-5381  \n",
       "2  02-3423-5381  \n",
       "3  02-3423-5381  \n",
       "4  02-3423-5381  "
      ]
     },
     "execution_count": 128,
     "metadata": {},
     "output_type": "execute_result"
    }
   ],
   "source": [
    "df.head()"
   ]
  },
  {
   "cell_type": "code",
   "execution_count": 130,
   "id": "08673d6e-a48e-4916-ae26-0120ab5d9a57",
   "metadata": {},
   "outputs": [
    {
     "name": "stdout",
     "output_type": "stream",
     "text": [
      "<class 'pandas.core.frame.DataFrame'>\n",
      "RangeIndex: 71 entries, 0 to 70\n",
      "Data columns (total 10 columns):\n",
      " #   Column    Non-Null Count  Dtype \n",
      "---  ------    --------------  ----- \n",
      " 0   연번        71 non-null     int64 \n",
      " 1   호선        71 non-null     int64 \n",
      " 2   역명        71 non-null     object\n",
      " 3   기기종류      71 non-null     object\n",
      " 4   지상지하구분    71 non-null     object\n",
      " 5   역층        71 non-null     object\n",
      " 6   상세위치      71 non-null     object\n",
      " 7   설치대수      71 non-null     int64 \n",
      " 8   계약자(업체명)  71 non-null     object\n",
      " 9   전화번호      71 non-null     object\n",
      "dtypes: int64(3), object(7)\n",
      "memory usage: 5.7+ KB\n"
     ]
    }
   ],
   "source": [
    "df.info()"
   ]
  },
  {
   "cell_type": "code",
   "execution_count": 132,
   "id": "c95a340c-2d55-4989-8338-ffe9f02bac46",
   "metadata": {},
   "outputs": [
    {
     "data": {
      "text/plain": [
       "Index(['연번', '호선', '역명', '기기종류', '지상지하구분', '역층', '상세위치', '설치대수', '계약자(업체명)',\n",
       "       '전화번호'],\n",
       "      dtype='object')"
      ]
     },
     "execution_count": 132,
     "metadata": {},
     "output_type": "execute_result"
    }
   ],
   "source": [
    "df.columns"
   ]
  },
  {
   "cell_type": "code",
   "execution_count": 134,
   "id": "eafbc5ba-8c64-4610-9410-dd8ee8aa87ae",
   "metadata": {},
   "outputs": [],
   "source": [
    "df = df.drop(columns=['연번', '기기종류', '지상지하구분', '역층', '상세위치', '계약자(업체명)',\n",
    "       '전화번호'])"
   ]
  },
  {
   "cell_type": "code",
   "execution_count": 136,
   "id": "25bdf9b1-0ac0-4901-9dc4-00764d281a9c",
   "metadata": {},
   "outputs": [
    {
     "data": {
      "text/html": [
       "<div>\n",
       "<style scoped>\n",
       "    .dataframe tbody tr th:only-of-type {\n",
       "        vertical-align: middle;\n",
       "    }\n",
       "\n",
       "    .dataframe tbody tr th {\n",
       "        vertical-align: top;\n",
       "    }\n",
       "\n",
       "    .dataframe thead th {\n",
       "        text-align: right;\n",
       "    }\n",
       "</style>\n",
       "<table border=\"1\" class=\"dataframe\">\n",
       "  <thead>\n",
       "    <tr style=\"text-align: right;\">\n",
       "      <th></th>\n",
       "      <th>호선</th>\n",
       "      <th>역명</th>\n",
       "      <th>설치대수</th>\n",
       "    </tr>\n",
       "  </thead>\n",
       "  <tbody>\n",
       "    <tr>\n",
       "      <th>0</th>\n",
       "      <td>1</td>\n",
       "      <td>종각</td>\n",
       "      <td>1</td>\n",
       "    </tr>\n",
       "    <tr>\n",
       "      <th>1</th>\n",
       "      <td>2</td>\n",
       "      <td>삼성</td>\n",
       "      <td>1</td>\n",
       "    </tr>\n",
       "    <tr>\n",
       "      <th>2</th>\n",
       "      <td>2</td>\n",
       "      <td>선릉</td>\n",
       "      <td>2</td>\n",
       "    </tr>\n",
       "    <tr>\n",
       "      <th>3</th>\n",
       "      <td>2</td>\n",
       "      <td>강남</td>\n",
       "      <td>1</td>\n",
       "    </tr>\n",
       "    <tr>\n",
       "      <th>4</th>\n",
       "      <td>2</td>\n",
       "      <td>역삼</td>\n",
       "      <td>1</td>\n",
       "    </tr>\n",
       "  </tbody>\n",
       "</table>\n",
       "</div>"
      ],
      "text/plain": [
       "   호선  역명  설치대수\n",
       "0   1  종각     1\n",
       "1   2  삼성     1\n",
       "2   2  선릉     2\n",
       "3   2  강남     1\n",
       "4   2  역삼     1"
      ]
     },
     "execution_count": 136,
     "metadata": {},
     "output_type": "execute_result"
    }
   ],
   "source": [
    "df.head()"
   ]
  },
  {
   "cell_type": "code",
   "execution_count": 138,
   "id": "4fe5575c-3192-4991-945d-43b198555092",
   "metadata": {},
   "outputs": [
    {
     "data": {
      "text/plain": [
       "71"
      ]
     },
     "execution_count": 138,
     "metadata": {},
     "output_type": "execute_result"
    }
   ],
   "source": [
    "len(df[\"역명\"].unique())"
   ]
  },
  {
   "cell_type": "code",
   "execution_count": 140,
   "id": "9ec547dc-e5e4-43b2-85e8-3e1918c8af2d",
   "metadata": {},
   "outputs": [
    {
     "data": {
      "text/html": [
       "<div>\n",
       "<style scoped>\n",
       "    .dataframe tbody tr th:only-of-type {\n",
       "        vertical-align: middle;\n",
       "    }\n",
       "\n",
       "    .dataframe tbody tr th {\n",
       "        vertical-align: top;\n",
       "    }\n",
       "\n",
       "    .dataframe thead th {\n",
       "        text-align: right;\n",
       "    }\n",
       "</style>\n",
       "<table border=\"1\" class=\"dataframe\">\n",
       "  <thead>\n",
       "    <tr style=\"text-align: right;\">\n",
       "      <th></th>\n",
       "      <th>호선</th>\n",
       "      <th>역명</th>\n",
       "      <th>설치대수</th>\n",
       "    </tr>\n",
       "  </thead>\n",
       "  <tbody>\n",
       "    <tr>\n",
       "      <th>0</th>\n",
       "      <td>1</td>\n",
       "      <td>종각</td>\n",
       "      <td>1</td>\n",
       "    </tr>\n",
       "    <tr>\n",
       "      <th>1</th>\n",
       "      <td>2</td>\n",
       "      <td>삼성</td>\n",
       "      <td>1</td>\n",
       "    </tr>\n",
       "    <tr>\n",
       "      <th>2</th>\n",
       "      <td>2</td>\n",
       "      <td>선릉</td>\n",
       "      <td>2</td>\n",
       "    </tr>\n",
       "    <tr>\n",
       "      <th>3</th>\n",
       "      <td>2</td>\n",
       "      <td>강남</td>\n",
       "      <td>1</td>\n",
       "    </tr>\n",
       "    <tr>\n",
       "      <th>4</th>\n",
       "      <td>2</td>\n",
       "      <td>역삼</td>\n",
       "      <td>1</td>\n",
       "    </tr>\n",
       "  </tbody>\n",
       "</table>\n",
       "</div>"
      ],
      "text/plain": [
       "   호선  역명  설치대수\n",
       "0   1  종각     1\n",
       "1   2  삼성     1\n",
       "2   2  선릉     2\n",
       "3   2  강남     1\n",
       "4   2  역삼     1"
      ]
     },
     "execution_count": 140,
     "metadata": {},
     "output_type": "execute_result"
    }
   ],
   "source": [
    "df.head()"
   ]
  },
  {
   "cell_type": "code",
   "execution_count": 142,
   "id": "bd683035-9212-42ef-8200-6bed5ec224f8",
   "metadata": {},
   "outputs": [
    {
     "data": {
      "text/plain": [
       "Index(['호선', '역명', '설치대수'], dtype='object')"
      ]
     },
     "execution_count": 142,
     "metadata": {},
     "output_type": "execute_result"
    }
   ],
   "source": [
    "df.columns"
   ]
  },
  {
   "cell_type": "code",
   "execution_count": 144,
   "id": "14a04cb3-56fe-4e98-a2d2-437f75327060",
   "metadata": {},
   "outputs": [],
   "source": [
    "df.columns = ['노선명', '역명', '무인민원 발급기 대수']"
   ]
  },
  {
   "cell_type": "code",
   "execution_count": 146,
   "id": "86778c7b-76c6-4587-b0e2-7704598db4b3",
   "metadata": {},
   "outputs": [],
   "source": [
    "df[\"노선명\"] = df[\"노선명\"].astype(str)"
   ]
  },
  {
   "cell_type": "code",
   "execution_count": 148,
   "id": "6711bb2d-c379-4edf-a629-825dcd2d492d",
   "metadata": {},
   "outputs": [],
   "source": [
    "df[\"노선명\"] = df[\"노선명\"] +  \"호선\""
   ]
  },
  {
   "cell_type": "code",
   "execution_count": 150,
   "id": "825e9a43-3f7a-47a6-8ed2-1494498a9e7c",
   "metadata": {},
   "outputs": [
    {
     "data": {
      "text/html": [
       "<div>\n",
       "<style scoped>\n",
       "    .dataframe tbody tr th:only-of-type {\n",
       "        vertical-align: middle;\n",
       "    }\n",
       "\n",
       "    .dataframe tbody tr th {\n",
       "        vertical-align: top;\n",
       "    }\n",
       "\n",
       "    .dataframe thead th {\n",
       "        text-align: right;\n",
       "    }\n",
       "</style>\n",
       "<table border=\"1\" class=\"dataframe\">\n",
       "  <thead>\n",
       "    <tr style=\"text-align: right;\">\n",
       "      <th></th>\n",
       "      <th>노선명</th>\n",
       "      <th>역명</th>\n",
       "      <th>무인민원 발급기 대수</th>\n",
       "    </tr>\n",
       "  </thead>\n",
       "  <tbody>\n",
       "    <tr>\n",
       "      <th>0</th>\n",
       "      <td>1호선</td>\n",
       "      <td>종각</td>\n",
       "      <td>1</td>\n",
       "    </tr>\n",
       "    <tr>\n",
       "      <th>1</th>\n",
       "      <td>2호선</td>\n",
       "      <td>삼성</td>\n",
       "      <td>1</td>\n",
       "    </tr>\n",
       "    <tr>\n",
       "      <th>2</th>\n",
       "      <td>2호선</td>\n",
       "      <td>선릉</td>\n",
       "      <td>2</td>\n",
       "    </tr>\n",
       "    <tr>\n",
       "      <th>3</th>\n",
       "      <td>2호선</td>\n",
       "      <td>강남</td>\n",
       "      <td>1</td>\n",
       "    </tr>\n",
       "    <tr>\n",
       "      <th>4</th>\n",
       "      <td>2호선</td>\n",
       "      <td>역삼</td>\n",
       "      <td>1</td>\n",
       "    </tr>\n",
       "  </tbody>\n",
       "</table>\n",
       "</div>"
      ],
      "text/plain": [
       "   노선명  역명  무인민원 발급기 대수\n",
       "0  1호선  종각            1\n",
       "1  2호선  삼성            1\n",
       "2  2호선  선릉            2\n",
       "3  2호선  강남            1\n",
       "4  2호선  역삼            1"
      ]
     },
     "execution_count": 150,
     "metadata": {},
     "output_type": "execute_result"
    }
   ],
   "source": [
    "df.head()"
   ]
  },
  {
   "cell_type": "code",
   "execution_count": 152,
   "id": "a20f2776-8766-4455-8347-abf16e8f0a99",
   "metadata": {},
   "outputs": [],
   "source": [
    "# df.to_csv(\"./result_files/unmanned_machine.csv\", index = False, encoding=\"utf-8-sig\")"
   ]
  },
  {
   "cell_type": "code",
   "execution_count": 154,
   "id": "2c2bb3f0-c8e8-494a-b50b-ed3e1deca8a8",
   "metadata": {},
   "outputs": [],
   "source": [
    "df9 = pd.read_excel(\"./data/9호선 편의시설 개수 정보.xlsx\")"
   ]
  },
  {
   "cell_type": "code",
   "execution_count": 156,
   "id": "3afa4604-d72f-420e-a903-d49a79f747c5",
   "metadata": {},
   "outputs": [
    {
     "data": {
      "text/plain": [
       "Index(['노선명', '역명', '지하상가', '편의점(역내)', '공중화장실', '자전거보관소', '엘리베이터', '에스컬레이터',\n",
       "       '물품보관함', '무인민원발급기', '소화기'],\n",
       "      dtype='object')"
      ]
     },
     "execution_count": 156,
     "metadata": {},
     "output_type": "execute_result"
    }
   ],
   "source": [
    "df9.columns"
   ]
  },
  {
   "cell_type": "code",
   "execution_count": 158,
   "id": "4c417eda-1941-437c-82cd-6eda2775da06",
   "metadata": {},
   "outputs": [],
   "source": [
    "df9 = df9[['노선명','역명','무인민원발급기']]"
   ]
  },
  {
   "cell_type": "code",
   "execution_count": 160,
   "id": "1dd53107-dcd4-4cab-a320-f6e3aca4ce76",
   "metadata": {},
   "outputs": [
    {
     "data": {
      "text/html": [
       "<div>\n",
       "<style scoped>\n",
       "    .dataframe tbody tr th:only-of-type {\n",
       "        vertical-align: middle;\n",
       "    }\n",
       "\n",
       "    .dataframe tbody tr th {\n",
       "        vertical-align: top;\n",
       "    }\n",
       "\n",
       "    .dataframe thead th {\n",
       "        text-align: right;\n",
       "    }\n",
       "</style>\n",
       "<table border=\"1\" class=\"dataframe\">\n",
       "  <thead>\n",
       "    <tr style=\"text-align: right;\">\n",
       "      <th></th>\n",
       "      <th>노선명</th>\n",
       "      <th>역명</th>\n",
       "      <th>무인민원발급기</th>\n",
       "    </tr>\n",
       "  </thead>\n",
       "  <tbody>\n",
       "    <tr>\n",
       "      <th>0</th>\n",
       "      <td>9호선</td>\n",
       "      <td>개화</td>\n",
       "      <td>0</td>\n",
       "    </tr>\n",
       "    <tr>\n",
       "      <th>1</th>\n",
       "      <td>9호선</td>\n",
       "      <td>김포공항</td>\n",
       "      <td>0</td>\n",
       "    </tr>\n",
       "    <tr>\n",
       "      <th>2</th>\n",
       "      <td>9호선</td>\n",
       "      <td>공항시장</td>\n",
       "      <td>0</td>\n",
       "    </tr>\n",
       "    <tr>\n",
       "      <th>3</th>\n",
       "      <td>9호선</td>\n",
       "      <td>신방화</td>\n",
       "      <td>0</td>\n",
       "    </tr>\n",
       "    <tr>\n",
       "      <th>4</th>\n",
       "      <td>9호선</td>\n",
       "      <td>마곡나루</td>\n",
       "      <td>1</td>\n",
       "    </tr>\n",
       "  </tbody>\n",
       "</table>\n",
       "</div>"
      ],
      "text/plain": [
       "   노선명    역명  무인민원발급기\n",
       "0  9호선    개화        0\n",
       "1  9호선  김포공항        0\n",
       "2  9호선  공항시장        0\n",
       "3  9호선   신방화        0\n",
       "4  9호선  마곡나루        1"
      ]
     },
     "execution_count": 160,
     "metadata": {},
     "output_type": "execute_result"
    }
   ],
   "source": [
    "df9.head()"
   ]
  },
  {
   "cell_type": "code",
   "execution_count": 162,
   "id": "ba923c4c-f7ed-48de-bc80-0143613fab1b",
   "metadata": {},
   "outputs": [],
   "source": [
    "df9 = df9.rename(columns={\"무인민원발급기\":\"무인민원 발급기 대수\"})"
   ]
  },
  {
   "cell_type": "code",
   "execution_count": 164,
   "id": "84b4415e-cef0-4458-8492-bb1ba104130a",
   "metadata": {},
   "outputs": [],
   "source": [
    "df_unman = pd.concat([df, df9], axis=0, ignore_index=True)"
   ]
  },
  {
   "cell_type": "code",
   "execution_count": 168,
   "id": "268fab9f-80f9-4da4-8054-b072f3f4bb4d",
   "metadata": {},
   "outputs": [],
   "source": [
    "df_unman.to_csv(\"./result_files/unmaned_machine_include9.csv\", index=False, encoding=\"utf-8-sig\")"
   ]
  },
  {
   "cell_type": "code",
   "execution_count": null,
   "id": "1735bb19-dfc7-44e1-9f14-5776ce021960",
   "metadata": {},
   "outputs": [],
   "source": []
  }
 ],
 "metadata": {
  "kernelspec": {
   "display_name": "Python [conda env:base] *",
   "language": "python",
   "name": "conda-base-py"
  },
  "language_info": {
   "codemirror_mode": {
    "name": "ipython",
    "version": 3
   },
   "file_extension": ".py",
   "mimetype": "text/x-python",
   "name": "python",
   "nbconvert_exporter": "python",
   "pygments_lexer": "ipython3",
   "version": "3.12.7"
  }
 },
 "nbformat": 4,
 "nbformat_minor": 5
}
