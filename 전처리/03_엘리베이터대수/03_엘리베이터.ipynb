{
 "cells": [
  {
   "cell_type": "code",
   "execution_count": 177,
   "id": "a1d9e43d-161f-4fe3-b085-d4193ece9e76",
   "metadata": {},
   "outputs": [],
   "source": [
    "import pandas as pd"
   ]
  },
  {
   "cell_type": "code",
   "execution_count": 179,
   "id": "557ff3f2-7da1-47d4-998c-785aed875494",
   "metadata": {},
   "outputs": [],
   "source": [
    "df = pd.read_excel(\"./data/서울교통공사_에스컬레이터 설치 정보(1-8호선).xlsx\", header = 1, skipfooter = 1)"
   ]
  },
  {
   "cell_type": "code",
   "execution_count": 180,
   "id": "248d45f2-75c6-4d2a-b9a8-a546c60767ed",
   "metadata": {},
   "outputs": [
    {
     "data": {
      "text/html": [
       "<div>\n",
       "<style scoped>\n",
       "    .dataframe tbody tr th:only-of-type {\n",
       "        vertical-align: middle;\n",
       "    }\n",
       "\n",
       "    .dataframe tbody tr th {\n",
       "        vertical-align: top;\n",
       "    }\n",
       "\n",
       "    .dataframe thead th {\n",
       "        text-align: right;\n",
       "    }\n",
       "</style>\n",
       "<table border=\"1\" class=\"dataframe\">\n",
       "  <thead>\n",
       "    <tr style=\"text-align: right;\">\n",
       "      <th></th>\n",
       "      <th>연번\\n(총괄정렬용)</th>\n",
       "      <th>연번</th>\n",
       "      <th>호선</th>\n",
       "      <th>역명</th>\n",
       "      <th>호기</th>\n",
       "      <th>승강기번호</th>\n",
       "      <th>설치위치</th>\n",
       "      <th>운행구간(자체조사)</th>\n",
       "      <th>운행방향</th>\n",
       "    </tr>\n",
       "  </thead>\n",
       "  <tbody>\n",
       "    <tr>\n",
       "      <th>0</th>\n",
       "      <td>1.0</td>\n",
       "      <td>1</td>\n",
       "      <td>1</td>\n",
       "      <td>서울역(1)</td>\n",
       "      <td>1</td>\n",
       "      <td>1800-448</td>\n",
       "      <td>연결통로(4호선)</td>\n",
       "      <td>B2-B1</td>\n",
       "      <td>상행</td>\n",
       "    </tr>\n",
       "    <tr>\n",
       "      <th>1</th>\n",
       "      <td>2.0</td>\n",
       "      <td>2</td>\n",
       "      <td>1</td>\n",
       "      <td>서울역(1)</td>\n",
       "      <td>2</td>\n",
       "      <td>1806-600</td>\n",
       "      <td>남영 방면2-3</td>\n",
       "      <td>B1-B2</td>\n",
       "      <td>하행</td>\n",
       "    </tr>\n",
       "    <tr>\n",
       "      <th>2</th>\n",
       "      <td>3.0</td>\n",
       "      <td>3</td>\n",
       "      <td>1</td>\n",
       "      <td>서울역(1)</td>\n",
       "      <td>3</td>\n",
       "      <td>1806-599</td>\n",
       "      <td>시청 방면9-3</td>\n",
       "      <td>B2-B1</td>\n",
       "      <td>상행</td>\n",
       "    </tr>\n",
       "    <tr>\n",
       "      <th>3</th>\n",
       "      <td>4.0</td>\n",
       "      <td>4</td>\n",
       "      <td>1</td>\n",
       "      <td>서울역(1)</td>\n",
       "      <td>4</td>\n",
       "      <td>1810-816</td>\n",
       "      <td>4번 출입구</td>\n",
       "      <td>B1-1F</td>\n",
       "      <td>상행</td>\n",
       "    </tr>\n",
       "    <tr>\n",
       "      <th>4</th>\n",
       "      <td>5.0</td>\n",
       "      <td>5</td>\n",
       "      <td>1</td>\n",
       "      <td>서울역(1)</td>\n",
       "      <td>5</td>\n",
       "      <td>1810-817</td>\n",
       "      <td>4번 출입구</td>\n",
       "      <td>1F-B1</td>\n",
       "      <td>하행</td>\n",
       "    </tr>\n",
       "    <tr>\n",
       "      <th>5</th>\n",
       "      <td>6.0</td>\n",
       "      <td>6</td>\n",
       "      <td>1</td>\n",
       "      <td>시청(1)</td>\n",
       "      <td>1</td>\n",
       "      <td>1808-119</td>\n",
       "      <td>5번 출입구</td>\n",
       "      <td>1F-B1</td>\n",
       "      <td>하행</td>\n",
       "    </tr>\n",
       "    <tr>\n",
       "      <th>6</th>\n",
       "      <td>7.0</td>\n",
       "      <td>7</td>\n",
       "      <td>1</td>\n",
       "      <td>시청(1)</td>\n",
       "      <td>2</td>\n",
       "      <td>1808-120</td>\n",
       "      <td>5번 출입구</td>\n",
       "      <td>B1-1F</td>\n",
       "      <td>상행</td>\n",
       "    </tr>\n",
       "    <tr>\n",
       "      <th>7</th>\n",
       "      <td>8.0</td>\n",
       "      <td>8</td>\n",
       "      <td>1</td>\n",
       "      <td>시청(1)</td>\n",
       "      <td>3</td>\n",
       "      <td>1809-239</td>\n",
       "      <td>1번 출입구</td>\n",
       "      <td>B1-1F</td>\n",
       "      <td>상행</td>\n",
       "    </tr>\n",
       "    <tr>\n",
       "      <th>8</th>\n",
       "      <td>9.0</td>\n",
       "      <td>9</td>\n",
       "      <td>1</td>\n",
       "      <td>종각</td>\n",
       "      <td>1</td>\n",
       "      <td>1810-730</td>\n",
       "      <td>1번 출입구</td>\n",
       "      <td>1F-B1</td>\n",
       "      <td>하행</td>\n",
       "    </tr>\n",
       "    <tr>\n",
       "      <th>9</th>\n",
       "      <td>10.0</td>\n",
       "      <td>10</td>\n",
       "      <td>1</td>\n",
       "      <td>종각</td>\n",
       "      <td>2</td>\n",
       "      <td>1810-729</td>\n",
       "      <td>1번 출입구</td>\n",
       "      <td>B1-1F</td>\n",
       "      <td>상행</td>\n",
       "    </tr>\n",
       "  </tbody>\n",
       "</table>\n",
       "</div>"
      ],
      "text/plain": [
       "   연번\\n(총괄정렬용)  연번 호선      역명  호기     승강기번호       설치위치 운행구간(자체조사) 운행방향\n",
       "0          1.0   1  1  서울역(1)   1  1800-448  연결통로(4호선)      B2-B1   상행\n",
       "1          2.0   2  1  서울역(1)   2  1806-600   남영 방면2-3      B1-B2   하행\n",
       "2          3.0   3  1  서울역(1)   3  1806-599   시청 방면9-3      B2-B1   상행\n",
       "3          4.0   4  1  서울역(1)   4  1810-816     4번 출입구      B1-1F   상행\n",
       "4          5.0   5  1  서울역(1)   5  1810-817     4번 출입구      1F-B1   하행\n",
       "5          6.0   6  1   시청(1)   1  1808-119     5번 출입구      1F-B1   하행\n",
       "6          7.0   7  1   시청(1)   2  1808-120     5번 출입구      B1-1F   상행\n",
       "7          8.0   8  1   시청(1)   3  1809-239     1번 출입구      B1-1F   상행\n",
       "8          9.0   9  1      종각   1  1810-730     1번 출입구      1F-B1   하행\n",
       "9         10.0  10  1      종각   2  1810-729     1번 출입구      B1-1F   상행"
      ]
     },
     "execution_count": 180,
     "metadata": {},
     "output_type": "execute_result"
    }
   ],
   "source": [
    "df.head(10)"
   ]
  },
  {
   "cell_type": "code",
   "execution_count": 181,
   "id": "bd9e5ca0-a0bb-4097-9171-c80bfc5b921c",
   "metadata": {},
   "outputs": [
    {
     "data": {
      "text/html": [
       "<div>\n",
       "<style scoped>\n",
       "    .dataframe tbody tr th:only-of-type {\n",
       "        vertical-align: middle;\n",
       "    }\n",
       "\n",
       "    .dataframe tbody tr th {\n",
       "        vertical-align: top;\n",
       "    }\n",
       "\n",
       "    .dataframe thead th {\n",
       "        text-align: right;\n",
       "    }\n",
       "</style>\n",
       "<table border=\"1\" class=\"dataframe\">\n",
       "  <thead>\n",
       "    <tr style=\"text-align: right;\">\n",
       "      <th></th>\n",
       "      <th>연번\\n(총괄정렬용)</th>\n",
       "      <th>연번</th>\n",
       "      <th>호선</th>\n",
       "      <th>역명</th>\n",
       "      <th>호기</th>\n",
       "      <th>승강기번호</th>\n",
       "      <th>설치위치</th>\n",
       "      <th>운행구간(자체조사)</th>\n",
       "      <th>운행방향</th>\n",
       "    </tr>\n",
       "  </thead>\n",
       "  <tbody>\n",
       "    <tr>\n",
       "      <th>1861</th>\n",
       "      <td>NaN</td>\n",
       "      <td>1862</td>\n",
       "      <td>8</td>\n",
       "      <td>남한산성입구</td>\n",
       "      <td>3</td>\n",
       "      <td>3805-603</td>\n",
       "      <td>대합실</td>\n",
       "      <td>B2-B1</td>\n",
       "      <td>상행</td>\n",
       "    </tr>\n",
       "    <tr>\n",
       "      <th>1862</th>\n",
       "      <td>NaN</td>\n",
       "      <td>1863</td>\n",
       "      <td>8</td>\n",
       "      <td>남한산성입구</td>\n",
       "      <td>4</td>\n",
       "      <td>3805-604</td>\n",
       "      <td>대합실</td>\n",
       "      <td>B1-B2</td>\n",
       "      <td>하행</td>\n",
       "    </tr>\n",
       "    <tr>\n",
       "      <th>1863</th>\n",
       "      <td>NaN</td>\n",
       "      <td>1864</td>\n",
       "      <td>8</td>\n",
       "      <td>단대오거리</td>\n",
       "      <td>1</td>\n",
       "      <td>3802-053</td>\n",
       "      <td>1번 출입구</td>\n",
       "      <td>B1-1F</td>\n",
       "      <td>상행</td>\n",
       "    </tr>\n",
       "    <tr>\n",
       "      <th>1864</th>\n",
       "      <td>NaN</td>\n",
       "      <td>1865</td>\n",
       "      <td>8</td>\n",
       "      <td>단대오거리</td>\n",
       "      <td>2</td>\n",
       "      <td>3802-054</td>\n",
       "      <td>1번 출입구</td>\n",
       "      <td>1F-B1</td>\n",
       "      <td>하행</td>\n",
       "    </tr>\n",
       "    <tr>\n",
       "      <th>1865</th>\n",
       "      <td>NaN</td>\n",
       "      <td>1866</td>\n",
       "      <td>8</td>\n",
       "      <td>단대오거리</td>\n",
       "      <td>3</td>\n",
       "      <td>3805-601</td>\n",
       "      <td>대합실</td>\n",
       "      <td>B1-B2</td>\n",
       "      <td>하행</td>\n",
       "    </tr>\n",
       "    <tr>\n",
       "      <th>1866</th>\n",
       "      <td>NaN</td>\n",
       "      <td>1867</td>\n",
       "      <td>8</td>\n",
       "      <td>단대오거리</td>\n",
       "      <td>4</td>\n",
       "      <td>3805-602</td>\n",
       "      <td>대합실</td>\n",
       "      <td>B2-B1</td>\n",
       "      <td>상행</td>\n",
       "    </tr>\n",
       "    <tr>\n",
       "      <th>1867</th>\n",
       "      <td>NaN</td>\n",
       "      <td>1868</td>\n",
       "      <td>8</td>\n",
       "      <td>단대오거리</td>\n",
       "      <td>5</td>\n",
       "      <td>3811-916</td>\n",
       "      <td>3번 출입구</td>\n",
       "      <td>B1-1F</td>\n",
       "      <td>상행</td>\n",
       "    </tr>\n",
       "    <tr>\n",
       "      <th>1868</th>\n",
       "      <td>NaN</td>\n",
       "      <td>1869</td>\n",
       "      <td>8</td>\n",
       "      <td>단대오거리</td>\n",
       "      <td>6</td>\n",
       "      <td>3811-917</td>\n",
       "      <td>3번 출입구</td>\n",
       "      <td>1F-B1</td>\n",
       "      <td>하행</td>\n",
       "    </tr>\n",
       "    <tr>\n",
       "      <th>1869</th>\n",
       "      <td>NaN</td>\n",
       "      <td>1870</td>\n",
       "      <td>8</td>\n",
       "      <td>모란(8)</td>\n",
       "      <td>1</td>\n",
       "      <td>3802-183</td>\n",
       "      <td>대합실</td>\n",
       "      <td>B1-B2</td>\n",
       "      <td>하행</td>\n",
       "    </tr>\n",
       "    <tr>\n",
       "      <th>1870</th>\n",
       "      <td>NaN</td>\n",
       "      <td>1871</td>\n",
       "      <td>8</td>\n",
       "      <td>모란(8)</td>\n",
       "      <td>2</td>\n",
       "      <td>3802-184</td>\n",
       "      <td>대합실</td>\n",
       "      <td>B2-B1</td>\n",
       "      <td>상행</td>\n",
       "    </tr>\n",
       "  </tbody>\n",
       "</table>\n",
       "</div>"
      ],
      "text/plain": [
       "      연번\\n(총괄정렬용)    연번 호선      역명  호기     승강기번호    설치위치 운행구간(자체조사) 운행방향\n",
       "1861          NaN  1862  8  남한산성입구   3  3805-603     대합실      B2-B1   상행\n",
       "1862          NaN  1863  8  남한산성입구   4  3805-604     대합실      B1-B2   하행\n",
       "1863          NaN  1864  8   단대오거리   1  3802-053  1번 출입구      B1-1F   상행\n",
       "1864          NaN  1865  8   단대오거리   2  3802-054  1번 출입구      1F-B1   하행\n",
       "1865          NaN  1866  8   단대오거리   3  3805-601     대합실      B1-B2   하행\n",
       "1866          NaN  1867  8   단대오거리   4  3805-602     대합실      B2-B1   상행\n",
       "1867          NaN  1868  8   단대오거리   5  3811-916  3번 출입구      B1-1F   상행\n",
       "1868          NaN  1869  8   단대오거리   6  3811-917  3번 출입구      1F-B1   하행\n",
       "1869          NaN  1870  8   모란(8)   1  3802-183     대합실      B1-B2   하행\n",
       "1870          NaN  1871  8   모란(8)   2  3802-184     대합실      B2-B1   상행"
      ]
     },
     "execution_count": 181,
     "metadata": {},
     "output_type": "execute_result"
    }
   ],
   "source": [
    "df.tail(10)"
   ]
  },
  {
   "cell_type": "code",
   "execution_count": 182,
   "id": "b81671a3-437e-4ddb-8b7b-22b522d39a8b",
   "metadata": {},
   "outputs": [
    {
     "data": {
      "text/plain": [
       "Index(['연번\\n(총괄정렬용)', '연번', '호선', '역명', '호기', '승강기번호', '설치위치', '운행구간(자체조사)',\n",
       "       '운행방향'],\n",
       "      dtype='object')"
      ]
     },
     "execution_count": 182,
     "metadata": {},
     "output_type": "execute_result"
    }
   ],
   "source": [
    "df.columns"
   ]
  },
  {
   "cell_type": "code",
   "execution_count": 183,
   "id": "7248e747-52ec-4dae-97d6-8e353043395b",
   "metadata": {},
   "outputs": [],
   "source": [
    "df = df.drop(columns=['연번\\n(총괄정렬용)', '연번', '승강기번호', '설치위치', '운행구간(자체조사)',\n",
    "       '운행방향'])"
   ]
  },
  {
   "cell_type": "code",
   "execution_count": 184,
   "id": "5c8541cf-a7d3-4ee0-a08d-95a273039d64",
   "metadata": {},
   "outputs": [],
   "source": [
    "df = df.rename(columns={\"호선\":\"노선명\"})"
   ]
  },
  {
   "cell_type": "code",
   "execution_count": 185,
   "id": "9e729740-d02e-4307-8696-db8aba527c3b",
   "metadata": {},
   "outputs": [],
   "source": [
    "df[\"노선명\"] = df[\"노선명\"].astype(str)"
   ]
  },
  {
   "cell_type": "code",
   "execution_count": 186,
   "id": "db393015-1766-4f77-b3da-3932ac01c1bd",
   "metadata": {},
   "outputs": [],
   "source": [
    "df[\"노선명\"] = df[\"노선명\"].str.replace(\"(연)\", \"\")"
   ]
  },
  {
   "cell_type": "code",
   "execution_count": 195,
   "id": "4c58823a-7d12-4924-ba2f-a1fda2aa748f",
   "metadata": {},
   "outputs": [],
   "source": [
    "df[\"노선명\"] = df[\"노선명\"] + \"호선\""
   ]
  },
  {
   "cell_type": "code",
   "execution_count": 197,
   "id": "c32e8e02-86d2-4443-9b7c-417f769f9547",
   "metadata": {},
   "outputs": [],
   "source": [
    "for i in range(1, 9):\n",
    "    df[\"역명\"] = df[\"역명\"].str.replace(f'({i})', '')"
   ]
  },
  {
   "cell_type": "code",
   "execution_count": 199,
   "id": "2c3e8308-45c8-47c1-a062-c7f635a76d3f",
   "metadata": {},
   "outputs": [
    {
     "data": {
      "text/html": [
       "<div>\n",
       "<style scoped>\n",
       "    .dataframe tbody tr th:only-of-type {\n",
       "        vertical-align: middle;\n",
       "    }\n",
       "\n",
       "    .dataframe tbody tr th {\n",
       "        vertical-align: top;\n",
       "    }\n",
       "\n",
       "    .dataframe thead th {\n",
       "        text-align: right;\n",
       "    }\n",
       "</style>\n",
       "<table border=\"1\" class=\"dataframe\">\n",
       "  <thead>\n",
       "    <tr style=\"text-align: right;\">\n",
       "      <th></th>\n",
       "      <th>노선명</th>\n",
       "      <th>역명</th>\n",
       "      <th>호기</th>\n",
       "    </tr>\n",
       "  </thead>\n",
       "  <tbody>\n",
       "    <tr>\n",
       "      <th>0</th>\n",
       "      <td>1호선</td>\n",
       "      <td>서울역</td>\n",
       "      <td>1</td>\n",
       "    </tr>\n",
       "    <tr>\n",
       "      <th>1</th>\n",
       "      <td>1호선</td>\n",
       "      <td>서울역</td>\n",
       "      <td>2</td>\n",
       "    </tr>\n",
       "    <tr>\n",
       "      <th>2</th>\n",
       "      <td>1호선</td>\n",
       "      <td>서울역</td>\n",
       "      <td>3</td>\n",
       "    </tr>\n",
       "    <tr>\n",
       "      <th>3</th>\n",
       "      <td>1호선</td>\n",
       "      <td>서울역</td>\n",
       "      <td>4</td>\n",
       "    </tr>\n",
       "    <tr>\n",
       "      <th>4</th>\n",
       "      <td>1호선</td>\n",
       "      <td>서울역</td>\n",
       "      <td>5</td>\n",
       "    </tr>\n",
       "  </tbody>\n",
       "</table>\n",
       "</div>"
      ],
      "text/plain": [
       "   노선명   역명  호기\n",
       "0  1호선  서울역   1\n",
       "1  1호선  서울역   2\n",
       "2  1호선  서울역   3\n",
       "3  1호선  서울역   4\n",
       "4  1호선  서울역   5"
      ]
     },
     "execution_count": 199,
     "metadata": {},
     "output_type": "execute_result"
    }
   ],
   "source": [
    "df.head()"
   ]
  },
  {
   "cell_type": "code",
   "execution_count": 201,
   "id": "e1a5eab0-89fd-42d2-adb9-359128c3a075",
   "metadata": {},
   "outputs": [],
   "source": [
    "ndf = df.groupby(['노선명', '역명'])[[\"호기\"]].max()"
   ]
  },
  {
   "cell_type": "code",
   "execution_count": 203,
   "id": "fdf56d1a-5319-4725-95e4-ad3e59c82b31",
   "metadata": {},
   "outputs": [],
   "source": [
    "ndf = ndf.rename(columns={\"호기\":\"엘리베이터 대수\"})"
   ]
  },
  {
   "cell_type": "code",
   "execution_count": 205,
   "id": "3e96c339-3cfc-402f-88e1-6f0237cf7890",
   "metadata": {},
   "outputs": [],
   "source": [
    "ndf = ndf.reset_index()"
   ]
  },
  {
   "cell_type": "code",
   "execution_count": 207,
   "id": "97b6e298-7e85-4a54-bac6-b84540b48227",
   "metadata": {},
   "outputs": [
    {
     "data": {
      "text/html": [
       "<div>\n",
       "<style scoped>\n",
       "    .dataframe tbody tr th:only-of-type {\n",
       "        vertical-align: middle;\n",
       "    }\n",
       "\n",
       "    .dataframe tbody tr th {\n",
       "        vertical-align: top;\n",
       "    }\n",
       "\n",
       "    .dataframe thead th {\n",
       "        text-align: right;\n",
       "    }\n",
       "</style>\n",
       "<table border=\"1\" class=\"dataframe\">\n",
       "  <thead>\n",
       "    <tr style=\"text-align: right;\">\n",
       "      <th></th>\n",
       "      <th>노선명</th>\n",
       "      <th>역명</th>\n",
       "      <th>엘리베이터 대수</th>\n",
       "    </tr>\n",
       "  </thead>\n",
       "  <tbody>\n",
       "    <tr>\n",
       "      <th>0</th>\n",
       "      <td>1호선</td>\n",
       "      <td>동대문</td>\n",
       "      <td>1</td>\n",
       "    </tr>\n",
       "    <tr>\n",
       "      <th>1</th>\n",
       "      <td>1호선</td>\n",
       "      <td>동묘앞</td>\n",
       "      <td>12</td>\n",
       "    </tr>\n",
       "    <tr>\n",
       "      <th>2</th>\n",
       "      <td>1호선</td>\n",
       "      <td>서울역</td>\n",
       "      <td>5</td>\n",
       "    </tr>\n",
       "    <tr>\n",
       "      <th>3</th>\n",
       "      <td>1호선</td>\n",
       "      <td>시청</td>\n",
       "      <td>3</td>\n",
       "    </tr>\n",
       "    <tr>\n",
       "      <th>4</th>\n",
       "      <td>1호선</td>\n",
       "      <td>제기동</td>\n",
       "      <td>2</td>\n",
       "    </tr>\n",
       "  </tbody>\n",
       "</table>\n",
       "</div>"
      ],
      "text/plain": [
       "   노선명   역명  엘리베이터 대수\n",
       "0  1호선  동대문         1\n",
       "1  1호선  동묘앞        12\n",
       "2  1호선  서울역         5\n",
       "3  1호선   시청         3\n",
       "4  1호선  제기동         2"
      ]
     },
     "execution_count": 207,
     "metadata": {},
     "output_type": "execute_result"
    }
   ],
   "source": [
    "ndf.head()"
   ]
  },
  {
   "cell_type": "code",
   "execution_count": 209,
   "id": "fa0d3759-a371-4600-bd44-4c2033f521d9",
   "metadata": {},
   "outputs": [],
   "source": [
    "# ndf.to_csv(\"./result_files/elevator.csv\", index=False, encoding=\"utf-8-sig\")"
   ]
  },
  {
   "cell_type": "code",
   "execution_count": 211,
   "id": "57bb66ad-f500-41c8-906b-165a5491c9ee",
   "metadata": {},
   "outputs": [],
   "source": [
    "df9 = pd.read_excel(\"./data/9호선 편의시설 개수 정보.xlsx\")"
   ]
  },
  {
   "cell_type": "code",
   "execution_count": 213,
   "id": "a36468d5-dbcd-4c0c-ba55-64de46560def",
   "metadata": {},
   "outputs": [
    {
     "data": {
      "text/plain": [
       "Index(['노선명', '역명', '지하상가', '편의점(역내)', '공중화장실', '자전거보관소', '엘리베이터', '에스컬레이터',\n",
       "       '물품보관함', '무인민원발급기', '소화기'],\n",
       "      dtype='object')"
      ]
     },
     "execution_count": 213,
     "metadata": {},
     "output_type": "execute_result"
    }
   ],
   "source": [
    "df9.columns"
   ]
  },
  {
   "cell_type": "code",
   "execution_count": 215,
   "id": "c36d12f4-e59c-41d6-a636-3ab445827544",
   "metadata": {},
   "outputs": [],
   "source": [
    "df9 = df9[['노선명', '역명', '엘리베이터']]"
   ]
  },
  {
   "cell_type": "code",
   "execution_count": 217,
   "id": "6ed71274-14a4-4a5f-b50c-f34683adccb1",
   "metadata": {},
   "outputs": [],
   "source": [
    "df9 = df9.rename(columns={\"엘리베이터\":\"엘리베이터 대수\"})"
   ]
  },
  {
   "cell_type": "code",
   "execution_count": 219,
   "id": "88c2a24a-4fc2-4c6d-b769-605efd0e0b5f",
   "metadata": {},
   "outputs": [],
   "source": [
    "elevator_count = pd.concat([ndf, df9], axis=0, ignore_index=True)"
   ]
  },
  {
   "cell_type": "code",
   "execution_count": 223,
   "id": "32883d20-c20c-41ea-b4b0-021b7dfa035c",
   "metadata": {},
   "outputs": [],
   "source": [
    "elevator_count.to_csv(\"./result_files/elevator_include9.csv\", index=False, encoding=\"utf-8-sig\")"
   ]
  },
  {
   "cell_type": "code",
   "execution_count": null,
   "id": "921ba434-4820-4261-8bcd-ffdfb5e94341",
   "metadata": {},
   "outputs": [],
   "source": []
  }
 ],
 "metadata": {
  "kernelspec": {
   "display_name": "Python [conda env:base] *",
   "language": "python",
   "name": "conda-base-py"
  },
  "language_info": {
   "codemirror_mode": {
    "name": "ipython",
    "version": 3
   },
   "file_extension": ".py",
   "mimetype": "text/x-python",
   "name": "python",
   "nbconvert_exporter": "python",
   "pygments_lexer": "ipython3",
   "version": "3.12.7"
  }
 },
 "nbformat": 4,
 "nbformat_minor": 5
}
